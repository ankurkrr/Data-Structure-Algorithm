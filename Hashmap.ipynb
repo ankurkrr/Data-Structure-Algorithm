{
 "cells": [
  {
   "cell_type": "code",
   "execution_count": 18,
   "id": "87c5ab51",
   "metadata": {},
   "outputs": [],
   "source": [
    "def get_hash(key):\n",
    "    h = 0\n",
    "    for char in key:\n",
    "        h += ord(char)\n",
    "    return h % 100"
   ]
  },
  {
   "cell_type": "code",
   "execution_count": 19,
   "id": "10ba031c",
   "metadata": {},
   "outputs": [
    {
     "data": {
      "text/plain": [
       "61"
      ]
     },
     "execution_count": 19,
     "metadata": {},
     "output_type": "execute_result"
    }
   ],
   "source": [
    "get_hash('march 28')"
   ]
  },
  {
   "cell_type": "code",
   "execution_count": 43,
   "id": "bbc1fee2",
   "metadata": {},
   "outputs": [],
   "source": [
    "class HashTable:\n",
    "    def __init__(self):\n",
    "        self.MAX = 100\n",
    "        self.arr = [None for i in range(self.MAX)]\n",
    "        \n",
    "    def get_hash(self,key):\n",
    "        h = 0\n",
    "        for char in key:\n",
    "            h += ord(char)\n",
    "        return h % self.MAX\n",
    "    \n",
    "    def __setitem__(self,key,val):\n",
    "        h = self.get_hash(key)\n",
    "        self.arr[h] = val\n",
    "        \n",
    "    def __getitem__(self,key):\n",
    "        h - self.get_hash(key)\n",
    "        return self.arr[h]\n",
    "    \n",
    "    def __delitem__(self,key):\n",
    "        h = get_hash(key)\n",
    "        self.arr[h] = None"
   ]
  },
  {
   "cell_type": "code",
   "execution_count": 51,
   "id": "77cb6dd9",
   "metadata": {},
   "outputs": [],
   "source": [
    "t = HashTable()\n",
    "t['march 6'] = 130\n",
    "t['march 1'] = 10\n",
    "t['dec 17'] = 27"
   ]
  },
  {
   "cell_type": "code",
   "execution_count": 53,
   "id": "6d5e3a59",
   "metadata": {},
   "outputs": [],
   "source": [
    "del t['march 6']"
   ]
  },
  {
   "cell_type": "code",
   "execution_count": 54,
   "id": "228bccaf",
   "metadata": {},
   "outputs": [
    {
     "data": {
      "text/plain": [
       "[None,\n",
       " None,\n",
       " None,\n",
       " None,\n",
       " 10,\n",
       " None,\n",
       " None,\n",
       " None,\n",
       " None,\n",
       " None,\n",
       " None,\n",
       " None,\n",
       " None,\n",
       " None,\n",
       " None,\n",
       " None,\n",
       " None,\n",
       " None,\n",
       " None,\n",
       " None,\n",
       " None,\n",
       " None,\n",
       " None,\n",
       " None,\n",
       " None,\n",
       " None,\n",
       " None,\n",
       " None,\n",
       " None,\n",
       " None,\n",
       " None,\n",
       " None,\n",
       " None,\n",
       " None,\n",
       " None,\n",
       " None,\n",
       " 27,\n",
       " None,\n",
       " None,\n",
       " None,\n",
       " None,\n",
       " None,\n",
       " None,\n",
       " None,\n",
       " None,\n",
       " None,\n",
       " None,\n",
       " None,\n",
       " None,\n",
       " None,\n",
       " None,\n",
       " None,\n",
       " None,\n",
       " None,\n",
       " None,\n",
       " None,\n",
       " None,\n",
       " None,\n",
       " None,\n",
       " None,\n",
       " None,\n",
       " None,\n",
       " None,\n",
       " None,\n",
       " None,\n",
       " None,\n",
       " None,\n",
       " None,\n",
       " None,\n",
       " None,\n",
       " None,\n",
       " None,\n",
       " None,\n",
       " None,\n",
       " None,\n",
       " None,\n",
       " None,\n",
       " None,\n",
       " None,\n",
       " None,\n",
       " None,\n",
       " None,\n",
       " None,\n",
       " None,\n",
       " None,\n",
       " None,\n",
       " None,\n",
       " None,\n",
       " None,\n",
       " None,\n",
       " None,\n",
       " None,\n",
       " None,\n",
       " None,\n",
       " None,\n",
       " None,\n",
       " None,\n",
       " None,\n",
       " None,\n",
       " None]"
      ]
     },
     "execution_count": 54,
     "metadata": {},
     "output_type": "execute_result"
    }
   ],
   "source": [
    "t.arr"
   ]
  },
  {
   "cell_type": "code",
   "execution_count": null,
   "id": "390c838c",
   "metadata": {},
   "outputs": [],
   "source": []
  },
  {
   "cell_type": "code",
   "execution_count": null,
   "id": "724395a8",
   "metadata": {},
   "outputs": [],
   "source": []
  },
  {
   "cell_type": "code",
   "execution_count": 55,
   "id": "09eb09a1",
   "metadata": {},
   "outputs": [],
   "source": [
    "# Collison of Hashmap"
   ]
  },
  {
   "cell_type": "code",
   "execution_count": 97,
   "id": "6c951f91",
   "metadata": {},
   "outputs": [],
   "source": [
    "class HashTable:\n",
    "    def __init__(self):\n",
    "        self.MAX = 10\n",
    "        self.arr = [[] for i in range(self.MAX)]\n",
    "        \n",
    "    def get_hash(self,key):\n",
    "        h = 0\n",
    "        for char in key:\n",
    "            h += ord(char)\n",
    "        return h % self.MAX\n",
    "        \n",
    "    def __getitem__(self,key):\n",
    "        h = self.get_hash(key)\n",
    "        for element in self.arr[h]:\n",
    "            if element[0] == key:\n",
    "                return element[1]\n",
    "            \n",
    "        \n",
    "    def __setitem__(self,key,val):\n",
    "        h = self.get_hash(key)\n",
    "        found = False\n",
    "        \n",
    "        for idx, element in enumerate(self.arr[h]):\n",
    "            if len(element)==2 and element[0]==key:\n",
    "                self.arr[h][idx] = (key,val)\n",
    "                found = True\n",
    "                break\n",
    "        if not found:\n",
    "            self.arr[h].append((key,val))\n",
    "            \n",
    "    def __delitem__(self,key):\n",
    "        h = self.get_hash(key)\n",
    "        for idx, element in enumerate(self.arr[h]):\n",
    "            if element[0] == key:\n",
    "                 del self.arr[h][idx]"
   ]
  },
  {
   "cell_type": "code",
   "execution_count": 98,
   "id": "6932d9c1",
   "metadata": {},
   "outputs": [],
   "source": [
    "t = HashTable()"
   ]
  },
  {
   "cell_type": "code",
   "execution_count": null,
   "id": "89b33bee",
   "metadata": {},
   "outputs": [],
   "source": []
  },
  {
   "cell_type": "code",
   "execution_count": 99,
   "id": "96a7d911",
   "metadata": {},
   "outputs": [],
   "source": [
    "t['march 6'] = 57\n",
    "t['march 6'] = 27\n",
    "t['march 8'] = 10\n",
    "t['march 9'] = 227\n",
    "t['march 17'] = 459"
   ]
  },
  {
   "cell_type": "code",
   "execution_count": 100,
   "id": "bbf3acf9",
   "metadata": {},
   "outputs": [
    {
     "data": {
      "text/plain": [
       "[[],\n",
       " [('march 8', 10)],\n",
       " [('march 9', 227)],\n",
       " [],\n",
       " [],\n",
       " [],\n",
       " [],\n",
       " [],\n",
       " [],\n",
       " [('march 6', 27), ('march 17', 459)]]"
      ]
     },
     "execution_count": 100,
     "metadata": {},
     "output_type": "execute_result"
    }
   ],
   "source": [
    "t.arr"
   ]
  },
  {
   "cell_type": "code",
   "execution_count": 101,
   "id": "723ca816",
   "metadata": {},
   "outputs": [
    {
     "data": {
      "text/plain": [
       "459"
      ]
     },
     "execution_count": 101,
     "metadata": {},
     "output_type": "execute_result"
    }
   ],
   "source": [
    "t['march 17']"
   ]
  },
  {
   "cell_type": "code",
   "execution_count": 102,
   "id": "d58c543e",
   "metadata": {},
   "outputs": [],
   "source": [
    "del t['march 17']"
   ]
  },
  {
   "cell_type": "code",
   "execution_count": 103,
   "id": "f93f099d",
   "metadata": {},
   "outputs": [
    {
     "data": {
      "text/plain": [
       "[[],\n",
       " [('march 8', 10)],\n",
       " [('march 9', 227)],\n",
       " [],\n",
       " [],\n",
       " [],\n",
       " [],\n",
       " [],\n",
       " [],\n",
       " [('march 6', 27)]]"
      ]
     },
     "execution_count": 103,
     "metadata": {},
     "output_type": "execute_result"
    }
   ],
   "source": [
    "t.arr"
   ]
  },
  {
   "cell_type": "code",
   "execution_count": null,
   "id": "e233c0d1",
   "metadata": {},
   "outputs": [],
   "source": []
  }
 ],
 "metadata": {
  "kernelspec": {
   "display_name": "Python 3 (ipykernel)",
   "language": "python",
   "name": "python3"
  },
  "language_info": {
   "codemirror_mode": {
    "name": "ipython",
    "version": 3
   },
   "file_extension": ".py",
   "mimetype": "text/x-python",
   "name": "python",
   "nbconvert_exporter": "python",
   "pygments_lexer": "ipython3",
   "version": "3.11.5"
  }
 },
 "nbformat": 4,
 "nbformat_minor": 5
}
