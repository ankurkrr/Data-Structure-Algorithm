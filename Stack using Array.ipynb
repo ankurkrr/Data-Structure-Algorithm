{
 "cells": [
  {
   "cell_type": "code",
   "execution_count": 79,
   "id": "9bf09e7e-d66a-45c2-bcc9-54aba6e3114c",
   "metadata": {},
   "outputs": [],
   "source": [
    "class Stack:\n",
    "\n",
    "    def __init__(self,size):\n",
    "\n",
    "        self.size = size\n",
    "        self.__stack = [None]* self.size\n",
    "        self.top = -1\n",
    "\n",
    "\n",
    "    def push(self,value):\n",
    "\n",
    "        if self.top == self.size -1:\n",
    "            return \"Overflow\"\n",
    "        else:\n",
    "            self.top +=1\n",
    "            self.stack[self.top] = value\n",
    "\n",
    "    def pop(self):\n",
    "\n",
    "        if self.top == -1:\n",
    "            return \"Empty\"\n",
    "        else:\n",
    "            data = self.stack[self.top]\n",
    "            self.top -= 1\n",
    "            print(data)\n",
    "\n",
    "    def traverse(self):\n",
    "\n",
    "        for i in range (self.top + 1):\n",
    "            print(self.stack[i],end = ' ')"
   ]
  },
  {
   "cell_type": "code",
   "execution_count": 93,
   "id": "f1570ce9-811c-4d8e-afe3-ebec8dbe718f",
   "metadata": {},
   "outputs": [],
   "source": [
    "s = Stack(3)"
   ]
  },
  {
   "cell_type": "code",
   "execution_count": 121,
   "id": "0e8b3f52-38ec-497d-b667-351e38341e9f",
   "metadata": {},
   "outputs": [
    {
     "data": {
      "text/plain": [
       "[7, 5, 6]"
      ]
     },
     "execution_count": 121,
     "metadata": {},
     "output_type": "execute_result"
    }
   ],
   "source": [
    "s.stack"
   ]
  },
  {
   "cell_type": "code",
   "execution_count": 97,
   "id": "e10050f1-54a3-4374-abb8-32f8d4f09438",
   "metadata": {},
   "outputs": [],
   "source": [
    "s.push(4)\n",
    "s.push(5)\n",
    "s.push(6)"
   ]
  },
  {
   "cell_type": "code",
   "execution_count": 117,
   "id": "e1769851-00b8-4443-82d7-37b6bc8ec898",
   "metadata": {},
   "outputs": [],
   "source": [
    "s.push(7)"
   ]
  },
  {
   "cell_type": "code",
   "execution_count": 101,
   "id": "c67f5665-6852-4cf2-8cf5-e294edc3c26c",
   "metadata": {},
   "outputs": [
    {
     "name": "stdout",
     "output_type": "stream",
     "text": [
      "6\n"
     ]
    }
   ],
   "source": [
    "s.pop()"
   ]
  },
  {
   "cell_type": "code",
   "execution_count": 105,
   "id": "fd06896d-fcf3-4aca-b3f1-d44df9c4ba75",
   "metadata": {},
   "outputs": [
    {
     "name": "stdout",
     "output_type": "stream",
     "text": [
      "5\n"
     ]
    }
   ],
   "source": [
    "s.pop()"
   ]
  },
  {
   "cell_type": "code",
   "execution_count": 51,
   "id": "e5b2bb5b-1f14-4a50-8fbc-e749c8ce7c55",
   "metadata": {},
   "outputs": [
    {
     "name": "stdout",
     "output_type": "stream",
     "text": [
      "4\n"
     ]
    }
   ],
   "source": [
    "s.pop()"
   ]
  },
  {
   "cell_type": "code",
   "execution_count": 113,
   "id": "c642cd08-f0e2-4654-92de-bd070f89d977",
   "metadata": {},
   "outputs": [
    {
     "data": {
      "text/plain": [
       "'Empty'"
      ]
     },
     "execution_count": 113,
     "metadata": {},
     "output_type": "execute_result"
    }
   ],
   "source": [
    "s.pop()"
   ]
  },
  {
   "cell_type": "code",
   "execution_count": 119,
   "id": "7db671b4-36fb-45d4-9c6e-88731169df86",
   "metadata": {},
   "outputs": [
    {
     "name": "stdout",
     "output_type": "stream",
     "text": [
      "7 "
     ]
    }
   ],
   "source": [
    "s.traverse()"
   ]
  },
  {
   "cell_type": "code",
   "execution_count": null,
   "id": "9b9d5ae5-b90b-4bdd-8bcc-efd1ff7ce82f",
   "metadata": {},
   "outputs": [],
   "source": []
  }
 ],
 "metadata": {
  "kernelspec": {
   "display_name": "Python 3 (ipykernel)",
   "language": "python",
   "name": "python3"
  },
  "language_info": {
   "codemirror_mode": {
    "name": "ipython",
    "version": 3
   },
   "file_extension": ".py",
   "mimetype": "text/x-python",
   "name": "python",
   "nbconvert_exporter": "python",
   "pygments_lexer": "ipython3",
   "version": "3.12.4"
  }
 },
 "nbformat": 4,
 "nbformat_minor": 5
}
