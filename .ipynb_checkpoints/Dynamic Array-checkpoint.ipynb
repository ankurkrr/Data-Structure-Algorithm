{
 "cells": [
  {
   "cell_type": "code",
   "execution_count": 37,
   "id": "560383de",
   "metadata": {},
   "outputs": [],
   "source": [
    "import sys"
   ]
  },
  {
   "cell_type": "code",
   "execution_count": 2,
   "id": "ab4a9a08",
   "metadata": {},
   "outputs": [
    {
     "data": {
      "text/plain": [
       "56"
      ]
     },
     "execution_count": 2,
     "metadata": {},
     "output_type": "execute_result"
    }
   ],
   "source": [
    "L = []\n",
    "sys.getsizeof(L)"
   ]
  },
  {
   "cell_type": "code",
   "execution_count": 3,
   "id": "41a269fb",
   "metadata": {},
   "outputs": [],
   "source": [
    "L.append(66)"
   ]
  },
  {
   "cell_type": "code",
   "execution_count": 4,
   "id": "bc6b117b",
   "metadata": {},
   "outputs": [
    {
     "data": {
      "text/plain": [
       "[66]"
      ]
     },
     "execution_count": 4,
     "metadata": {},
     "output_type": "execute_result"
    }
   ],
   "source": [
    "L"
   ]
  },
  {
   "cell_type": "code",
   "execution_count": 5,
   "id": "9eed64fd",
   "metadata": {},
   "outputs": [
    {
     "data": {
      "text/plain": [
       "88"
      ]
     },
     "execution_count": 5,
     "metadata": {},
     "output_type": "execute_result"
    }
   ],
   "source": [
    "sys.getsizeof(L)"
   ]
  },
  {
   "cell_type": "code",
   "execution_count": 6,
   "id": "d00cc351",
   "metadata": {},
   "outputs": [
    {
     "name": "stdout",
     "output_type": "stream",
     "text": [
      "0 88\n",
      "1 88\n",
      "2 88\n",
      "3 88\n",
      "4 120\n",
      "5 120\n",
      "6 120\n",
      "7 120\n",
      "8 184\n",
      "9 184\n",
      "10 184\n",
      "11 184\n",
      "12 184\n",
      "13 184\n",
      "14 184\n",
      "15 184\n",
      "16 248\n",
      "17 248\n",
      "18 248\n",
      "19 248\n",
      "20 248\n",
      "21 248\n",
      "22 248\n",
      "23 248\n",
      "24 312\n",
      "25 312\n",
      "26 312\n",
      "27 312\n",
      "28 312\n",
      "29 312\n",
      "30 312\n",
      "31 312\n",
      "32 376\n",
      "33 376\n",
      "34 376\n",
      "35 376\n",
      "36 376\n",
      "37 376\n",
      "38 376\n",
      "39 376\n",
      "40 472\n",
      "41 472\n",
      "42 472\n",
      "43 472\n",
      "44 472\n",
      "45 472\n",
      "46 472\n",
      "47 472\n",
      "48 472\n",
      "49 472\n",
      "50 472\n",
      "51 472\n",
      "52 568\n",
      "53 568\n",
      "54 568\n",
      "55 568\n",
      "56 568\n",
      "57 568\n",
      "58 568\n",
      "59 568\n",
      "60 568\n",
      "61 568\n",
      "62 568\n",
      "63 568\n",
      "64 664\n",
      "65 664\n",
      "66 664\n",
      "67 664\n",
      "68 664\n",
      "69 664\n",
      "70 664\n",
      "71 664\n",
      "72 664\n",
      "73 664\n",
      "74 664\n",
      "75 664\n",
      "76 792\n",
      "77 792\n",
      "78 792\n",
      "79 792\n",
      "80 792\n",
      "81 792\n",
      "82 792\n",
      "83 792\n",
      "84 792\n",
      "85 792\n",
      "86 792\n",
      "87 792\n",
      "88 792\n",
      "89 792\n",
      "90 792\n",
      "91 792\n",
      "92 920\n",
      "93 920\n",
      "94 920\n",
      "95 920\n",
      "96 920\n",
      "97 920\n",
      "98 920\n",
      "99 920\n"
     ]
    }
   ],
   "source": [
    "for i in range(100):\n",
    "    print(i,sys.getsizeof(L))\n",
    "    L.append(i)"
   ]
  },
  {
   "cell_type": "code",
   "execution_count": null,
   "id": "f93be22d",
   "metadata": {},
   "outputs": [],
   "source": []
  },
  {
   "cell_type": "code",
   "execution_count": 7,
   "id": "24a13db6",
   "metadata": {},
   "outputs": [],
   "source": [
    "# Creating Class which act like same as above."
   ]
  },
  {
   "cell_type": "code",
   "execution_count": 8,
   "id": "60f30bb3",
   "metadata": {},
   "outputs": [],
   "source": [
    "import ctypes"
   ]
  },
  {
   "cell_type": "code",
   "execution_count": 9,
   "id": "8bd72297",
   "metadata": {},
   "outputs": [],
   "source": [
    "class MeraList:\n",
    "    \n",
    "    def __init__(self):\n",
    "        self.size = 1 #size of the list at initial stage\n",
    "        self.n = 0 # total no. of items filled in a list\n",
    "        \n",
    "        # create a C type array with size = self.size\n",
    "        self.A = self.__make_array(self.size)\n",
    "        \n",
    "    def __len__(self):\n",
    "        return self.n\n",
    "        \n",
    "    def __make_array(self,capacity):\n",
    "        return (capacity*ctypes.py_object)()  #capacity*ctype.py_object - this is C language code which create C type array(static, refential) with size capacity."
   ]
  },
  {
   "cell_type": "code",
   "execution_count": 10,
   "id": "5dbeb0fc",
   "metadata": {},
   "outputs": [],
   "source": [
    "L = MeraList()"
   ]
  },
  {
   "cell_type": "code",
   "execution_count": 11,
   "id": "516a3c52",
   "metadata": {},
   "outputs": [
    {
     "name": "stdout",
     "output_type": "stream",
     "text": [
      "<__main__.MeraList object at 0x0000023BD2613D70>\n"
     ]
    }
   ],
   "source": [
    "print(L)"
   ]
  },
  {
   "cell_type": "code",
   "execution_count": 12,
   "id": "382784f8",
   "metadata": {},
   "outputs": [
    {
     "data": {
      "text/plain": [
       "0"
      ]
     },
     "execution_count": 12,
     "metadata": {},
     "output_type": "execute_result"
    }
   ],
   "source": [
    "len(L)"
   ]
  },
  {
   "cell_type": "code",
   "execution_count": 13,
   "id": "ad8109f4",
   "metadata": {},
   "outputs": [
    {
     "ename": "AttributeError",
     "evalue": "'MeraList' object has no attribute 'append'",
     "output_type": "error",
     "traceback": [
      "\u001b[1;31m---------------------------------------------------------------------------\u001b[0m",
      "\u001b[1;31mAttributeError\u001b[0m                            Traceback (most recent call last)",
      "Cell \u001b[1;32mIn[13], line 1\u001b[0m\n\u001b[1;32m----> 1\u001b[0m L\u001b[38;5;241m.\u001b[39mappend(\u001b[38;5;124m'\u001b[39m\u001b[38;5;124ma\u001b[39m\u001b[38;5;124m'\u001b[39m)\n",
      "\u001b[1;31mAttributeError\u001b[0m: 'MeraList' object has no attribute 'append'"
     ]
    }
   ],
   "source": [
    "L.append('a') # it shows 'MeraList' object has no attribute 'append' because we didn't created append function\n",
    "\n",
    "              # To create append function \n",
    "            \n",
    "              # Check if space is vacant\n",
    "              # if no then resize\n",
    "              # if yes then insert in A[n]\n",
    "            \n",
    "            \n",
    "              # Here is Code \n",
    "               # def append(self, item):\n",
    "               #     if self.n == self.size: # the value of n = size of list\n",
    "                        # resize\n",
    "              #          self.__resize(self.size*2)\n",
    "                \n",
    "              #  def __resize(self,new_capacity):\n",
    "              #      # create new array with new capacity\n",
    "              #      B = self.__make_array(new_capacity)\n",
    "              #      self.size = new_capacity\n",
    "              #      # copy the content of A to B\n",
    "              #      \n",
    "              #      for i in range(self.n):\n",
    "              #          B[i] = self.A[i]\n",
    "              #      # reassign A\n",
    "              #      self.A = B\n",
    "              #      \n",
    "              #      #append\n",
    "              #      self.A[self.n] = item\n",
    "              #      self.n = self.n+1\"\"\""
   ]
  },
  {
   "cell_type": "code",
   "execution_count": 35,
   "id": "68cc7c23",
   "metadata": {},
   "outputs": [],
   "source": [
    "class MeraList:\n",
    "    \n",
    "    def __init__(self):\n",
    "        self.size = 1 #size of the list at initial stage\n",
    "        self.n = 0 # total no. of items filled in a list\n",
    "        \n",
    "        # create a C type array with size = self.size\n",
    "        self.A = self.__make_array(self.size)\n",
    "        \n",
    "    def __len__(self):\n",
    "        return self.n\n",
    "    \n",
    "    def append(self,item):\n",
    "        if self.n == self.size:      # the value of n = size of list\n",
    "            # resize\n",
    "            self.__resize(self.size*2)\n",
    "        #append\n",
    "        self.A[self.n] = item\n",
    "        self.n = self.n+1\n",
    "        \n",
    "        \n",
    "    def __resize(self,new_capacity):\n",
    "        # create new array with new capacity\n",
    "        B = self.__make_array(new_capacity)\n",
    "        self.size = new_capacity\n",
    "        # copy the content of A to B\n",
    "        for i in range(self.n):\n",
    "            B[i] = self.A[i]\n",
    "        \n",
    "        # reassign A bcz logic written on A\n",
    "        self.A = B\n",
    "                    \n",
    "\n",
    "        \n",
    "    def __make_array(self,capacity):\n",
    "        return (capacity*ctypes.py_object)()  #capacity*ctype.py_object - this is C language code which create C type array(static, refential) with size capacity."
   ]
  },
  {
   "cell_type": "code",
   "execution_count": 36,
   "id": "3d89933d",
   "metadata": {},
   "outputs": [],
   "source": [
    "L = MeraList()"
   ]
  },
  {
   "cell_type": "code",
   "execution_count": 37,
   "id": "23f58fe0",
   "metadata": {},
   "outputs": [],
   "source": [
    "L.append('Hello')"
   ]
  },
  {
   "cell_type": "code",
   "execution_count": 38,
   "id": "786e197b",
   "metadata": {},
   "outputs": [
    {
     "data": {
      "text/plain": [
       "1"
      ]
     },
     "execution_count": 38,
     "metadata": {},
     "output_type": "execute_result"
    }
   ],
   "source": [
    "len(L)"
   ]
  },
  {
   "cell_type": "code",
   "execution_count": 42,
   "id": "e15d3665",
   "metadata": {},
   "outputs": [],
   "source": [
    "L.append(3.1)\n",
    "L.append(100)\n",
    "L.append(True)"
   ]
  },
  {
   "cell_type": "code",
   "execution_count": 43,
   "id": "b9826b93",
   "metadata": {},
   "outputs": [
    {
     "data": {
      "text/plain": [
       "7"
      ]
     },
     "execution_count": 43,
     "metadata": {},
     "output_type": "execute_result"
    }
   ],
   "source": [
    "len(L)"
   ]
  },
  {
   "cell_type": "code",
   "execution_count": null,
   "id": "7e91a96e",
   "metadata": {},
   "outputs": [],
   "source": []
  },
  {
   "cell_type": "code",
   "execution_count": 3,
   "id": "9c6b7781",
   "metadata": {},
   "outputs": [],
   "source": [
    "# Now we are going to create print feature\n",
    "\n",
    "class MeraList:\n",
    "    \n",
    "    def __init__(self):\n",
    "        self.size = 1 #size of the list at initial stage\n",
    "        self.n = 0 # total no. of items filled in a list\n",
    "        \n",
    "        # create a C type array with size = self.size\n",
    "        self.A = self.__make_array(self.size)\n",
    "        \n",
    "    def __len__(self):\n",
    "        return self.n\n",
    "    \n",
    "    def __str__(self):\n",
    "        # [1,2,3] This is the way the code looks like\n",
    "        result = ''\n",
    "        for i in range(self.n):\n",
    "            result = result+str(self.A[i]) + ','\n",
    "            \n",
    "        return '[' +result[:-1]+']'\n",
    "        \n",
    "        \n",
    "    \n",
    "    def append(self,item):\n",
    "        if self.n == self.size:      # the value of n = size of list\n",
    "            # resize\n",
    "            self.__resize(self.size*2)\n",
    "        #append\n",
    "        self.A[self.n] = item\n",
    "        self.n = self.n+1\n",
    "        \n",
    "        \n",
    "    def __resize(self,new_capacity):\n",
    "        # create new array with new capacity\n",
    "        B = self.__make_array(new_capacity)\n",
    "        self.size = new_capacity\n",
    "        # copy the content of A to B\n",
    "        for i in range(self.n):\n",
    "            B[i] = self.A[i]\n",
    "        \n",
    "        # reassign A bcz logic written on A\n",
    "        self.A = B\n",
    "                    \n",
    "\n",
    "        \n",
    "    def __make_array(self,capacity):\n",
    "        return (capacity*ctypes.py_object)()  #capacity*ctype.py_object - this is C language code which create C type array(static, refential) with size capacity."
   ]
  },
  {
   "cell_type": "code",
   "execution_count": 231,
   "id": "6bdc6b97",
   "metadata": {},
   "outputs": [],
   "source": [
    "L = MeraList()"
   ]
  },
  {
   "cell_type": "code",
   "execution_count": 232,
   "id": "6621c61c",
   "metadata": {},
   "outputs": [],
   "source": [
    "L.append(3.1)\n",
    "L.append(100)\n",
    "L.append(True)\n",
    "L.append('Hello')"
   ]
  },
  {
   "cell_type": "code",
   "execution_count": 233,
   "id": "9f4149f3",
   "metadata": {},
   "outputs": [
    {
     "name": "stdout",
     "output_type": "stream",
     "text": [
      "[3.1,100,True,Hello]\n"
     ]
    }
   ],
   "source": [
    "print(L)"
   ]
  },
  {
   "cell_type": "code",
   "execution_count": null,
   "id": "3a8e59a2",
   "metadata": {},
   "outputs": [],
   "source": []
  },
  {
   "cell_type": "code",
   "execution_count": 70,
   "id": "a79d7c26",
   "metadata": {},
   "outputs": [
    {
     "data": {
      "text/plain": [
       "2"
      ]
     },
     "execution_count": 70,
     "metadata": {},
     "output_type": "execute_result"
    }
   ],
   "source": [
    "# Indexing - fetching items using square bracket like below\n",
    "M = [1,2,3,4]\n",
    "M[1]"
   ]
  },
  {
   "cell_type": "code",
   "execution_count": 263,
   "id": "27d87ecd",
   "metadata": {},
   "outputs": [],
   "source": [
    "# Now we are going to create Indexing feature\n",
    "\n",
    "class MeraList:\n",
    "    \n",
    "    def __init__(self):\n",
    "        self.size = 1 #size of the list at initial stage\n",
    "        self.n = 0 # total no. of items filled in a list\n",
    "\n",
    "        \n",
    "        # create a C type array with size = self.size\n",
    "        self.A = self.__make_array(self.size)\n",
    "        \n",
    "    def __len__(self):\n",
    "        return self.n\n",
    "    \n",
    "    # Print Items\n",
    "    def __str__(self):\n",
    "        # [1,2,3] This is the way the code looks like\n",
    "        result = ''\n",
    "        for i in range(self.n):\n",
    "            result = result+str(self.A[i]) + ','\n",
    "            \n",
    "        return '[' +result[:-1]+']'\n",
    "    \n",
    "    # Indexing\n",
    "    def __getitem__(self,index):\n",
    "        \n",
    "        if 0<= index < self.n:\n",
    "            return self.A[index]\n",
    "        else:\n",
    "            return 'IndexError - Index out of range'\n",
    "        \n",
    "        \n",
    "        \n",
    "    # deleting item\n",
    "    def __delitem__(self,pos):\n",
    "        \n",
    "        if 0<= pos < self.n:\n",
    "            for i in range(pos, self.n-1): #Shifting\n",
    "                self.A[i] = self.A[i+1]\n",
    "            \n",
    "            self.n = self.n-1\n",
    "        \n",
    "    # Append Object\n",
    "    def append(self,item):\n",
    "        if self.n == self.size:      # the value of n = size of list\n",
    "            # resize\n",
    "            self.__resize(self.size*2)\n",
    "        #append\n",
    "        self.A[self.n] = item\n",
    "        self.n = self.n+1\n",
    "        \n",
    "    #deleting object\n",
    "    def pop(self):\n",
    "        if self.n == 0:\n",
    "            return 'Empty list'\n",
    "        \n",
    "        print(self.A[self.n-1])\n",
    "        self.n = self.n - 1\n",
    "        \n",
    "    \n",
    "    def clear(self):\n",
    "        self.size = 1\n",
    "        self.n = 0\n",
    "        \n",
    "    # Finding index number using item.    \n",
    "    def find(self,item):\n",
    "        \n",
    "        for i in range(self.n):\n",
    "            if self.A[i] == item:\n",
    "                return i\n",
    "            \n",
    "        return 'ValueError - not in the list'\n",
    "    \n",
    "    \n",
    "    def insert(self,pos,item):\n",
    "        \n",
    "        if self.n == self.size:\n",
    "            self.__resize(self.size*2)\n",
    "            \n",
    "        for i in range(self.n,pos,-1):\n",
    "            self.A[i] = self.A[i-1]\n",
    "            \n",
    "            \n",
    "        self.A[pos] = item\n",
    "        self.n = self.n+1\n",
    "\n",
    "    def sort(self):\n",
    "        l = len(self.A)\n",
    "        for i in range(l):\n",
    "            swapped = False\n",
    "            for j in range(0,l-i-1):\n",
    "                if self.A[j] > self.A[j+1]:\n",
    "                    self.A[j], self.A[j+1] = self.A[j+1], self.A[j]\n",
    "                    swapped = True\n",
    "            if not swapped:\n",
    "                break\n",
    "\n",
    "    def min(self):\n",
    "        minimum = self.A[0]\n",
    "        for i in self.A[1:]:\n",
    "            if i < minimum:\n",
    "                minimum = i\n",
    "\n",
    "        return minimum\n",
    "\n",
    "\n",
    "    def max(self):\n",
    "        maximum = self.A[0]\n",
    "        for i in self.A[1:]:\n",
    "            if i > maximum:\n",
    "                maximum = i\n",
    "\n",
    "        return maximum\n",
    "        \n",
    "    \n",
    "    def remove(self,item):\n",
    "        pos = self.find(item)\n",
    "        \n",
    "        if type(pos) == int:\n",
    "            #delete\n",
    "            self.__delitem__(pos)\n",
    "            \n",
    "        else:\n",
    "            return pos\n",
    "                \n",
    "        \n",
    "        \n",
    "    def __resize(self,new_capacity):\n",
    "        # create new array with new capacity\n",
    "        B = self.__make_array(new_capacity)\n",
    "        self.size = new_capacity\n",
    "        # copy the content of A to B\n",
    "        for i in range(self.n):\n",
    "            B[i] = self.A[i]\n",
    "        \n",
    "        # reassign A bcz logic written on A\n",
    "        self.A = B\n",
    "                    \n",
    "\n",
    "        \n",
    "    def __make_array(self,capacity):\n",
    "        return (capacity*ctypes.py_object)()  #capacity*ctype.py_object - this is C language code which create C type array(static, refential) with size capacity."
   ]
  },
  {
   "cell_type": "code",
   "execution_count": 264,
   "id": "e95d5024",
   "metadata": {},
   "outputs": [],
   "source": [
    "L = MeraList()"
   ]
  },
  {
   "cell_type": "code",
   "execution_count": 269,
   "id": "eb161783",
   "metadata": {},
   "outputs": [],
   "source": [
    "L.append(50)\n",
    "L.append(100)\n",
    "L.append(5)\n",
    "L.append(7)\n",
    "L.append(152)\n",
    "L.append(458)"
   ]
  },
  {
   "cell_type": "code",
   "execution_count": 270,
   "id": "f418dac4",
   "metadata": {},
   "outputs": [
    {
     "name": "stdout",
     "output_type": "stream",
     "text": [
      "[50,100,5,7,1526,458,50,100,5,7,152,458]\n"
     ]
    }
   ],
   "source": [
    "print(L)"
   ]
  },
  {
   "cell_type": "code",
   "execution_count": 111,
   "id": "45527219",
   "metadata": {},
   "outputs": [],
   "source": [
    "L.remove(3.1)"
   ]
  },
  {
   "cell_type": "code",
   "execution_count": 271,
   "id": "5ec42cd1",
   "metadata": {},
   "outputs": [
    {
     "ename": "ValueError",
     "evalue": "PyObject is NULL",
     "output_type": "error",
     "traceback": [
      "\u001b[1;31m---------------------------------------------------------------------------\u001b[0m",
      "\u001b[1;31mValueError\u001b[0m                                Traceback (most recent call last)",
      "Cell \u001b[1;32mIn[271], line 1\u001b[0m\n\u001b[1;32m----> 1\u001b[0m L\u001b[38;5;241m.\u001b[39mmin()\n",
      "Cell \u001b[1;32mIn[263], line 101\u001b[0m, in \u001b[0;36mMeraList.min\u001b[1;34m(self)\u001b[0m\n\u001b[0;32m     99\u001b[0m \u001b[38;5;28;01mdef\u001b[39;00m \u001b[38;5;21mmin\u001b[39m(\u001b[38;5;28mself\u001b[39m):\n\u001b[0;32m    100\u001b[0m     minimum \u001b[38;5;241m=\u001b[39m \u001b[38;5;28mself\u001b[39m\u001b[38;5;241m.\u001b[39mA[\u001b[38;5;241m0\u001b[39m]\n\u001b[1;32m--> 101\u001b[0m     \u001b[38;5;28;01mfor\u001b[39;00m i \u001b[38;5;129;01min\u001b[39;00m \u001b[38;5;28mself\u001b[39m\u001b[38;5;241m.\u001b[39mA[\u001b[38;5;241m1\u001b[39m:]:\n\u001b[0;32m    102\u001b[0m         \u001b[38;5;28;01mif\u001b[39;00m i \u001b[38;5;241m<\u001b[39m minimum:\n\u001b[0;32m    103\u001b[0m             minimum \u001b[38;5;241m=\u001b[39m i\n",
      "\u001b[1;31mValueError\u001b[0m: PyObject is NULL"
     ]
    }
   ],
   "source": [
    "L.min()"
   ]
  },
  {
   "cell_type": "code",
   "execution_count": 272,
   "id": "7c20cc32-ca7c-41da-a594-0f00f4c0b75b",
   "metadata": {},
   "outputs": [
    {
     "ename": "ValueError",
     "evalue": "PyObject is NULL",
     "output_type": "error",
     "traceback": [
      "\u001b[1;31m---------------------------------------------------------------------------\u001b[0m",
      "\u001b[1;31mValueError\u001b[0m                                Traceback (most recent call last)",
      "Cell \u001b[1;32mIn[272], line 1\u001b[0m\n\u001b[1;32m----> 1\u001b[0m L\u001b[38;5;241m.\u001b[39mmax()\n",
      "Cell \u001b[1;32mIn[263], line 110\u001b[0m, in \u001b[0;36mMeraList.max\u001b[1;34m(self)\u001b[0m\n\u001b[0;32m    108\u001b[0m \u001b[38;5;28;01mdef\u001b[39;00m \u001b[38;5;21mmax\u001b[39m(\u001b[38;5;28mself\u001b[39m):\n\u001b[0;32m    109\u001b[0m     maximum \u001b[38;5;241m=\u001b[39m \u001b[38;5;28mself\u001b[39m\u001b[38;5;241m.\u001b[39mA[\u001b[38;5;241m0\u001b[39m]\n\u001b[1;32m--> 110\u001b[0m     \u001b[38;5;28;01mfor\u001b[39;00m i \u001b[38;5;129;01min\u001b[39;00m \u001b[38;5;28mself\u001b[39m\u001b[38;5;241m.\u001b[39mA[\u001b[38;5;241m1\u001b[39m:]:\n\u001b[0;32m    111\u001b[0m         \u001b[38;5;28;01mif\u001b[39;00m i \u001b[38;5;241m>\u001b[39m maximum:\n\u001b[0;32m    112\u001b[0m             maximum \u001b[38;5;241m=\u001b[39m i\n",
      "\u001b[1;31mValueError\u001b[0m: PyObject is NULL"
     ]
    }
   ],
   "source": [
    "L.max()"
   ]
  },
  {
   "cell_type": "code",
   "execution_count": 69,
   "id": "2cc5692e",
   "metadata": {},
   "outputs": [],
   "source": [
    "#del L[2]"
   ]
  },
  {
   "cell_type": "code",
   "execution_count": 114,
   "id": "a4d50330",
   "metadata": {},
   "outputs": [
    {
     "name": "stdout",
     "output_type": "stream",
     "text": [
      "[100,3.1,100]\n"
     ]
    }
   ],
   "source": [
    "print(L)"
   ]
  },
  {
   "cell_type": "code",
   "execution_count": 115,
   "id": "bf7885d9",
   "metadata": {},
   "outputs": [],
   "source": [
    "#L.pop()"
   ]
  },
  {
   "cell_type": "code",
   "execution_count": 116,
   "id": "95e4f06e",
   "metadata": {},
   "outputs": [],
   "source": [
    "#L.clear()\n",
    "#print(L)"
   ]
  },
  {
   "cell_type": "code",
   "execution_count": 187,
   "id": "5718015f",
   "metadata": {},
   "outputs": [],
   "source": [
    "L.insert(5,1)"
   ]
  },
  {
   "cell_type": "code",
   "execution_count": 188,
   "id": "ee3c6de4",
   "metadata": {},
   "outputs": [
    {
     "name": "stdout",
     "output_type": "stream",
     "text": [
      "[1,100,15,7,1,1,100,15,7]\n"
     ]
    }
   ],
   "source": [
    "print(L)"
   ]
  },
  {
   "cell_type": "code",
   "execution_count": 120,
   "id": "adf576f1",
   "metadata": {},
   "outputs": [
    {
     "data": {
      "text/plain": [
       "1"
      ]
     },
     "execution_count": 120,
     "metadata": {},
     "output_type": "execute_result"
    }
   ],
   "source": [
    "L.find(100)"
   ]
  },
  {
   "cell_type": "code",
   "execution_count": 60,
   "id": "ee5cc3b6",
   "metadata": {},
   "outputs": [],
   "source": [
    "m = [1,2,3,20]"
   ]
  },
  {
   "cell_type": "code",
   "execution_count": 61,
   "id": "66d79eea",
   "metadata": {},
   "outputs": [],
   "source": [
    "m.remove(20)"
   ]
  },
  {
   "cell_type": "code",
   "execution_count": 62,
   "id": "8350bccf",
   "metadata": {},
   "outputs": [
    {
     "data": {
      "text/plain": [
       "[1, 2, 3]"
      ]
     },
     "execution_count": 62,
     "metadata": {},
     "output_type": "execute_result"
    }
   ],
   "source": [
    "m"
   ]
  },
  {
   "cell_type": "code",
   "execution_count": 33,
   "id": "1ac404aa",
   "metadata": {},
   "outputs": [],
   "source": [
    "M = [1,2,4,5,9,4,8,7]"
   ]
  },
  {
   "cell_type": "code",
   "execution_count": 34,
   "id": "2bc95f91-c9fd-4095-830b-23646b05a690",
   "metadata": {},
   "outputs": [
    {
     "data": {
      "text/plain": [
       "[1, 2, 4, 5, 9, 4, 8, 7]"
      ]
     },
     "execution_count": 34,
     "metadata": {},
     "output_type": "execute_result"
    }
   ],
   "source": [
    "M"
   ]
  },
  {
   "cell_type": "code",
   "execution_count": 35,
   "id": "d23e1e66-051d-4061-9641-05d463680307",
   "metadata": {},
   "outputs": [],
   "source": [
    "M.sort()"
   ]
  },
  {
   "cell_type": "code",
   "execution_count": 36,
   "id": "0b089f4b-749f-4882-be66-5e8cc8c690fc",
   "metadata": {},
   "outputs": [
    {
     "data": {
      "text/plain": [
       "[1, 2, 4, 4, 5, 7, 8, 9]"
      ]
     },
     "execution_count": 36,
     "metadata": {},
     "output_type": "execute_result"
    }
   ],
   "source": [
    "M"
   ]
  },
  {
   "cell_type": "code",
   "execution_count": 29,
   "id": "f77f9257-9195-4fdc-b0c2-44d0950e133b",
   "metadata": {},
   "outputs": [],
   "source": [
    "N =['ford','bmw','volvo']"
   ]
  },
  {
   "cell_type": "code",
   "execution_count": 273,
   "id": "cb01d0b3-52ad-4e56-b50e-64536d91e43b",
   "metadata": {},
   "outputs": [],
   "source": [
    "N.sort()"
   ]
  },
  {
   "cell_type": "code",
   "execution_count": 274,
   "id": "e8d6c72e-65a6-40ea-9092-942910e9dfae",
   "metadata": {},
   "outputs": [
    {
     "data": {
      "text/plain": [
       "['bmw', 'ford', 'volvo']"
      ]
     },
     "execution_count": 274,
     "metadata": {},
     "output_type": "execute_result"
    }
   ],
   "source": [
    "N"
   ]
  },
  {
   "cell_type": "code",
   "execution_count": 275,
   "id": "f59cc810-85b3-43d3-b1a6-724b4a0e5c7c",
   "metadata": {},
   "outputs": [
    {
     "name": "stdout",
     "output_type": "stream",
     "text": [
      "[50,100,5,7,1526,458,50,100,5,7,152,458]\n"
     ]
    }
   ],
   "source": [
    "print(L)"
   ]
  },
  {
   "cell_type": "code",
   "execution_count": 276,
   "id": "7c9625db-54df-4979-ac50-82b254fd88dc",
   "metadata": {},
   "outputs": [
    {
     "ename": "ValueError",
     "evalue": "PyObject is NULL",
     "output_type": "error",
     "traceback": [
      "\u001b[1;31m---------------------------------------------------------------------------\u001b[0m",
      "\u001b[1;31mValueError\u001b[0m                                Traceback (most recent call last)",
      "Cell \u001b[1;32mIn[276], line 1\u001b[0m\n\u001b[1;32m----> 1\u001b[0m L\u001b[38;5;241m.\u001b[39msort()\n",
      "Cell \u001b[1;32mIn[263], line 93\u001b[0m, in \u001b[0;36mMeraList.sort\u001b[1;34m(self)\u001b[0m\n\u001b[0;32m     91\u001b[0m swapped \u001b[38;5;241m=\u001b[39m \u001b[38;5;28;01mFalse\u001b[39;00m\n\u001b[0;32m     92\u001b[0m \u001b[38;5;28;01mfor\u001b[39;00m j \u001b[38;5;129;01min\u001b[39;00m \u001b[38;5;28mrange\u001b[39m(\u001b[38;5;241m0\u001b[39m,l\u001b[38;5;241m-\u001b[39mi\u001b[38;5;241m-\u001b[39m\u001b[38;5;241m1\u001b[39m):\n\u001b[1;32m---> 93\u001b[0m     \u001b[38;5;28;01mif\u001b[39;00m \u001b[38;5;28mself\u001b[39m\u001b[38;5;241m.\u001b[39mA[j] \u001b[38;5;241m>\u001b[39m \u001b[38;5;28mself\u001b[39m\u001b[38;5;241m.\u001b[39mA[j\u001b[38;5;241m+\u001b[39m\u001b[38;5;241m1\u001b[39m]:\n\u001b[0;32m     94\u001b[0m         \u001b[38;5;28mself\u001b[39m\u001b[38;5;241m.\u001b[39mA[j], \u001b[38;5;28mself\u001b[39m\u001b[38;5;241m.\u001b[39mA[j\u001b[38;5;241m+\u001b[39m\u001b[38;5;241m1\u001b[39m] \u001b[38;5;241m=\u001b[39m \u001b[38;5;28mself\u001b[39m\u001b[38;5;241m.\u001b[39mA[j\u001b[38;5;241m+\u001b[39m\u001b[38;5;241m1\u001b[39m], \u001b[38;5;28mself\u001b[39m\u001b[38;5;241m.\u001b[39mA[j]\n\u001b[0;32m     95\u001b[0m         swapped \u001b[38;5;241m=\u001b[39m \u001b[38;5;28;01mTrue\u001b[39;00m\n",
      "\u001b[1;31mValueError\u001b[0m: PyObject is NULL"
     ]
    }
   ],
   "source": [
    "L.sort()"
   ]
  },
  {
   "cell_type": "code",
   "execution_count": 277,
   "id": "525af90e-29b7-4564-922c-2dfac3d9bd1f",
   "metadata": {},
   "outputs": [
    {
     "name": "stdout",
     "output_type": "stream",
     "text": [
      "[50,5,7,100,458,50,100,5,7,152,458,1526]\n"
     ]
    }
   ],
   "source": [
    "print(L)"
   ]
  },
  {
   "cell_type": "code",
   "execution_count": null,
   "id": "0e51025b-efb1-4103-b122-c60d6ecf356e",
   "metadata": {},
   "outputs": [],
   "source": []
  }
 ],
 "metadata": {
  "kernelspec": {
   "display_name": "Python 3 (ipykernel)",
   "language": "python",
   "name": "python3"
  },
  "language_info": {
   "codemirror_mode": {
    "name": "ipython",
    "version": 3
   },
   "file_extension": ".py",
   "mimetype": "text/x-python",
   "name": "python",
   "nbconvert_exporter": "python",
   "pygments_lexer": "ipython3",
   "version": "3.12.4"
  }
 },
 "nbformat": 4,
 "nbformat_minor": 5
}
