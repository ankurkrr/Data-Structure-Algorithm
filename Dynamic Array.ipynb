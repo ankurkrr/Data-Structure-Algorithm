{
 "cells": [
  {
   "cell_type": "code",
   "execution_count": 22,
   "id": "560383de",
   "metadata": {},
   "outputs": [],
   "source": [
    "import sys"
   ]
  },
  {
   "cell_type": "code",
   "execution_count": 23,
   "id": "ab4a9a08",
   "metadata": {},
   "outputs": [
    {
     "data": {
      "text/plain": [
       "56"
      ]
     },
     "execution_count": 23,
     "metadata": {},
     "output_type": "execute_result"
    }
   ],
   "source": [
    "L = []\n",
    "sys.getsizeof(L)"
   ]
  },
  {
   "cell_type": "code",
   "execution_count": 24,
   "id": "41a269fb",
   "metadata": {},
   "outputs": [],
   "source": [
    "L.append(66)"
   ]
  },
  {
   "cell_type": "code",
   "execution_count": 25,
   "id": "bc6b117b",
   "metadata": {},
   "outputs": [
    {
     "data": {
      "text/plain": [
       "[66]"
      ]
     },
     "execution_count": 25,
     "metadata": {},
     "output_type": "execute_result"
    }
   ],
   "source": [
    "L"
   ]
  },
  {
   "cell_type": "code",
   "execution_count": 26,
   "id": "9eed64fd",
   "metadata": {},
   "outputs": [
    {
     "data": {
      "text/plain": [
       "88"
      ]
     },
     "execution_count": 26,
     "metadata": {},
     "output_type": "execute_result"
    }
   ],
   "source": [
    "sys.getsizeof(L)"
   ]
  },
  {
   "cell_type": "code",
   "execution_count": 27,
   "id": "d00cc351",
   "metadata": {},
   "outputs": [
    {
     "name": "stdout",
     "output_type": "stream",
     "text": [
      "0 88\n",
      "1 88\n",
      "2 88\n",
      "3 88\n",
      "4 120\n",
      "5 120\n",
      "6 120\n",
      "7 120\n",
      "8 184\n",
      "9 184\n",
      "10 184\n",
      "11 184\n",
      "12 184\n",
      "13 184\n",
      "14 184\n",
      "15 184\n",
      "16 248\n",
      "17 248\n",
      "18 248\n",
      "19 248\n",
      "20 248\n",
      "21 248\n",
      "22 248\n",
      "23 248\n",
      "24 312\n",
      "25 312\n",
      "26 312\n",
      "27 312\n",
      "28 312\n",
      "29 312\n",
      "30 312\n",
      "31 312\n",
      "32 376\n",
      "33 376\n",
      "34 376\n",
      "35 376\n",
      "36 376\n",
      "37 376\n",
      "38 376\n",
      "39 376\n",
      "40 472\n",
      "41 472\n",
      "42 472\n",
      "43 472\n",
      "44 472\n",
      "45 472\n",
      "46 472\n",
      "47 472\n",
      "48 472\n",
      "49 472\n",
      "50 472\n",
      "51 472\n",
      "52 568\n",
      "53 568\n",
      "54 568\n",
      "55 568\n",
      "56 568\n",
      "57 568\n",
      "58 568\n",
      "59 568\n",
      "60 568\n",
      "61 568\n",
      "62 568\n",
      "63 568\n",
      "64 664\n",
      "65 664\n",
      "66 664\n",
      "67 664\n",
      "68 664\n",
      "69 664\n",
      "70 664\n",
      "71 664\n",
      "72 664\n",
      "73 664\n",
      "74 664\n",
      "75 664\n",
      "76 792\n",
      "77 792\n",
      "78 792\n",
      "79 792\n",
      "80 792\n",
      "81 792\n",
      "82 792\n",
      "83 792\n",
      "84 792\n",
      "85 792\n",
      "86 792\n",
      "87 792\n",
      "88 792\n",
      "89 792\n",
      "90 792\n",
      "91 792\n",
      "92 920\n",
      "93 920\n",
      "94 920\n",
      "95 920\n",
      "96 920\n",
      "97 920\n",
      "98 920\n",
      "99 920\n"
     ]
    }
   ],
   "source": [
    "for i in range(100):\n",
    "    print(i,sys.getsizeof(L))\n",
    "    L.append(i)"
   ]
  },
  {
   "cell_type": "code",
   "execution_count": null,
   "id": "f93be22d",
   "metadata": {},
   "outputs": [],
   "source": []
  },
  {
   "cell_type": "code",
   "execution_count": 28,
   "id": "24a13db6",
   "metadata": {},
   "outputs": [],
   "source": [
    "# Creating Class which act like same as above."
   ]
  },
  {
   "cell_type": "code",
   "execution_count": 29,
   "id": "60f30bb3",
   "metadata": {},
   "outputs": [],
   "source": [
    "import ctypes"
   ]
  },
  {
   "cell_type": "code",
   "execution_count": 30,
   "id": "8bd72297",
   "metadata": {},
   "outputs": [],
   "source": [
    "class MeraList:\n",
    "    \n",
    "    def __init__(self):\n",
    "        self.size = 1 #size of the list at initial stage\n",
    "        self.n = 0 # total no. of items filled in a list\n",
    "        \n",
    "        # create a C type array with size = self.size\n",
    "        self.A = self.__make_array(self.size)\n",
    "        \n",
    "    def __len__(self):\n",
    "        return self.n\n",
    "        \n",
    "    def __make_array(self,capacity):\n",
    "        return (capacity*ctypes.py_object)()  #capacity*ctype.py_object - this is C language code which create C type array(static, refential) with size capacity."
   ]
  },
  {
   "cell_type": "code",
   "execution_count": 31,
   "id": "5dbeb0fc",
   "metadata": {},
   "outputs": [],
   "source": [
    "L = MeraList()"
   ]
  },
  {
   "cell_type": "code",
   "execution_count": 32,
   "id": "516a3c52",
   "metadata": {},
   "outputs": [
    {
     "name": "stdout",
     "output_type": "stream",
     "text": [
      "<__main__.MeraList object at 0x0000017A981A7410>\n"
     ]
    }
   ],
   "source": [
    "print(L)"
   ]
  },
  {
   "cell_type": "code",
   "execution_count": 33,
   "id": "382784f8",
   "metadata": {},
   "outputs": [
    {
     "data": {
      "text/plain": [
       "0"
      ]
     },
     "execution_count": 33,
     "metadata": {},
     "output_type": "execute_result"
    }
   ],
   "source": [
    "len(L)"
   ]
  },
  {
   "cell_type": "code",
   "execution_count": 34,
   "id": "ad8109f4",
   "metadata": {},
   "outputs": [
    {
     "ename": "AttributeError",
     "evalue": "'MeraList' object has no attribute 'append'",
     "output_type": "error",
     "traceback": [
      "\u001b[1;31m---------------------------------------------------------------------------\u001b[0m",
      "\u001b[1;31mAttributeError\u001b[0m                            Traceback (most recent call last)",
      "Cell \u001b[1;32mIn[34], line 1\u001b[0m\n\u001b[1;32m----> 1\u001b[0m \u001b[43mL\u001b[49m\u001b[38;5;241;43m.\u001b[39;49m\u001b[43mappend\u001b[49m(\u001b[38;5;124m'\u001b[39m\u001b[38;5;124ma\u001b[39m\u001b[38;5;124m'\u001b[39m) \u001b[38;5;66;03m# it shows 'MeraList' object has no attribute 'append' because we didn't created append function\u001b[39;00m\n\u001b[0;32m      3\u001b[0m               \u001b[38;5;66;03m# To create append function \u001b[39;00m\n\u001b[0;32m      4\u001b[0m             \n\u001b[0;32m      5\u001b[0m               \u001b[38;5;66;03m# Check if space is vacant\u001b[39;00m\n\u001b[1;32m   (...)\u001b[0m\n\u001b[0;32m     28\u001b[0m               \u001b[38;5;66;03m#      self.A[self.n] = item\u001b[39;00m\n\u001b[0;32m     29\u001b[0m               \u001b[38;5;66;03m#      self.n = self.n+1\"\"\"\u001b[39;00m\n",
      "\u001b[1;31mAttributeError\u001b[0m: 'MeraList' object has no attribute 'append'"
     ]
    }
   ],
   "source": [
    "L.append('a') # it shows 'MeraList' object has no attribute 'append' because we didn't created append function\n",
    "\n",
    "              # To create append function \n",
    "            \n",
    "              # Check if space is vacant\n",
    "              # if no then resize\n",
    "              # if yes then insert in A[n]\n",
    "            \n",
    "            \n",
    "              # Here is Code \n",
    "               # def append(self, item):\n",
    "               #     if self.n == self.size: # the value of n = size of list\n",
    "                        # resize\n",
    "              #          self.__resize(self.size*2)\n",
    "                \n",
    "              #  def __resize(self,new_capacity):\n",
    "              #      # create new array with new capacity\n",
    "              #      B = self.__make_array(new_capacity)\n",
    "              #      self.size = new_capacity\n",
    "              #      # copy the content of A to B\n",
    "              #      \n",
    "              #      for i in range(self.n):\n",
    "              #          B[i] = self.A[i]\n",
    "              #      # reassign A\n",
    "              #      self.A = B\n",
    "              #      \n",
    "              #      #append\n",
    "              #      self.A[self.n] = item\n",
    "              #      self.n = self.n+1\"\"\""
   ]
  },
  {
   "cell_type": "code",
   "execution_count": 35,
   "id": "68cc7c23",
   "metadata": {},
   "outputs": [],
   "source": [
    "class MeraList:\n",
    "    \n",
    "    def __init__(self):\n",
    "        self.size = 1 #size of the list at initial stage\n",
    "        self.n = 0 # total no. of items filled in a list\n",
    "        \n",
    "        # create a C type array with size = self.size\n",
    "        self.A = self.__make_array(self.size)\n",
    "        \n",
    "    def __len__(self):\n",
    "        return self.n\n",
    "    \n",
    "    def append(self,item):\n",
    "        if self.n == self.size:      # the value of n = size of list\n",
    "            # resize\n",
    "            self.__resize(self.size*2)\n",
    "        #append\n",
    "        self.A[self.n] = item\n",
    "        self.n = self.n+1\n",
    "        \n",
    "        \n",
    "    def __resize(self,new_capacity):\n",
    "        # create new array with new capacity\n",
    "        B = self.__make_array(new_capacity)\n",
    "        self.size = new_capacity\n",
    "        # copy the content of A to B\n",
    "        for i in range(self.n):\n",
    "            B[i] = self.A[i]\n",
    "        \n",
    "        # reassign A bcz logic written on A\n",
    "        self.A = B\n",
    "                    \n",
    "\n",
    "        \n",
    "    def __make_array(self,capacity):\n",
    "        return (capacity*ctypes.py_object)()  #capacity*ctype.py_object - this is C language code which create C type array(static, refential) with size capacity."
   ]
  },
  {
   "cell_type": "code",
   "execution_count": 36,
   "id": "3d89933d",
   "metadata": {},
   "outputs": [],
   "source": [
    "L = MeraList()"
   ]
  },
  {
   "cell_type": "code",
   "execution_count": 37,
   "id": "23f58fe0",
   "metadata": {},
   "outputs": [],
   "source": [
    "L.append('Hello')"
   ]
  },
  {
   "cell_type": "code",
   "execution_count": 38,
   "id": "786e197b",
   "metadata": {},
   "outputs": [
    {
     "data": {
      "text/plain": [
       "1"
      ]
     },
     "execution_count": 38,
     "metadata": {},
     "output_type": "execute_result"
    }
   ],
   "source": [
    "len(L)"
   ]
  },
  {
   "cell_type": "code",
   "execution_count": 42,
   "id": "e15d3665",
   "metadata": {},
   "outputs": [],
   "source": [
    "L.append(3.1)\n",
    "L.append(100)\n",
    "L.append(True)"
   ]
  },
  {
   "cell_type": "code",
   "execution_count": 43,
   "id": "b9826b93",
   "metadata": {},
   "outputs": [
    {
     "data": {
      "text/plain": [
       "7"
      ]
     },
     "execution_count": 43,
     "metadata": {},
     "output_type": "execute_result"
    }
   ],
   "source": [
    "len(L)"
   ]
  },
  {
   "cell_type": "code",
   "execution_count": null,
   "id": "7e91a96e",
   "metadata": {},
   "outputs": [],
   "source": []
  },
  {
   "cell_type": "code",
   "execution_count": 63,
   "id": "9c6b7781",
   "metadata": {},
   "outputs": [],
   "source": [
    "# Now we are going to create print feature\n",
    "\n",
    "class MeraList:\n",
    "    \n",
    "    def __init__(self):\n",
    "        self.size = 1 #size of the list at initial stage\n",
    "        self.n = 0 # total no. of items filled in a list\n",
    "        \n",
    "        # create a C type array with size = self.size\n",
    "        self.A = self.__make_array(self.size)\n",
    "        \n",
    "    def __len__(self):\n",
    "        return self.n\n",
    "    \n",
    "    def __str__(self):\n",
    "        # [1,2,3] This is the way the code looks like\n",
    "        result = ''\n",
    "        for i in range(self.n):\n",
    "            result = result+str(self.A[i]) + ','\n",
    "            \n",
    "        return '[' +result[:-1]+']'\n",
    "        \n",
    "        \n",
    "    \n",
    "    def append(self,item):\n",
    "        if self.n == self.size:      # the value of n = size of list\n",
    "            # resize\n",
    "            self.__resize(self.size*2)\n",
    "        #append\n",
    "        self.A[self.n] = item\n",
    "        self.n = self.n+1\n",
    "        \n",
    "        \n",
    "    def __resize(self,new_capacity):\n",
    "        # create new array with new capacity\n",
    "        B = self.__make_array(new_capacity)\n",
    "        self.size = new_capacity\n",
    "        # copy the content of A to B\n",
    "        for i in range(self.n):\n",
    "            B[i] = self.A[i]\n",
    "        \n",
    "        # reassign A bcz logic written on A\n",
    "        self.A = B\n",
    "                    \n",
    "\n",
    "        \n",
    "    def __make_array(self,capacity):\n",
    "        return (capacity*ctypes.py_object)()  #capacity*ctype.py_object - this is C language code which create C type array(static, refential) with size capacity."
   ]
  },
  {
   "cell_type": "code",
   "execution_count": 64,
   "id": "6bdc6b97",
   "metadata": {},
   "outputs": [],
   "source": [
    "L = MeraList()"
   ]
  },
  {
   "cell_type": "code",
   "execution_count": 65,
   "id": "6621c61c",
   "metadata": {},
   "outputs": [],
   "source": [
    "L.append(3.1)\n",
    "L.append(100)\n",
    "L.append(True)\n",
    "L.append('Hello')"
   ]
  },
  {
   "cell_type": "code",
   "execution_count": 66,
   "id": "9f4149f3",
   "metadata": {},
   "outputs": [
    {
     "name": "stdout",
     "output_type": "stream",
     "text": [
      "[3.1,100,True,Hello]\n"
     ]
    }
   ],
   "source": [
    "print(L)"
   ]
  },
  {
   "cell_type": "code",
   "execution_count": null,
   "id": "3a8e59a2",
   "metadata": {},
   "outputs": [],
   "source": []
  },
  {
   "cell_type": "code",
   "execution_count": 70,
   "id": "a79d7c26",
   "metadata": {},
   "outputs": [
    {
     "data": {
      "text/plain": [
       "2"
      ]
     },
     "execution_count": 70,
     "metadata": {},
     "output_type": "execute_result"
    }
   ],
   "source": [
    "# Indexing - fetching items using square bracket like below\n",
    "M = [1,2,3,4]\n",
    "M[1]"
   ]
  },
  {
   "cell_type": "code",
   "execution_count": 110,
   "id": "27d87ecd",
   "metadata": {},
   "outputs": [],
   "source": [
    "# Now we are going to create Indexing feature\n",
    "\n",
    "class MeraList:\n",
    "    \n",
    "    def __init__(self):\n",
    "        self.size = 1 #size of the list at initial stage\n",
    "        self.n = 0 # total no. of items filled in a list\n",
    "        \n",
    "        # create a C type array with size = self.size\n",
    "        self.A = self.__make_array(self.size)\n",
    "        \n",
    "    def __len__(self):\n",
    "        return self.n\n",
    "    \n",
    "    # Print Items\n",
    "    def __str__(self):\n",
    "        # [1,2,3] This is the way the code looks like\n",
    "        result = ''\n",
    "        for i in range(self.n):\n",
    "            result = result+str(self.A[i]) + ','\n",
    "            \n",
    "        return '[' +result[:-1]+']'\n",
    "    \n",
    "    # Indexing\n",
    "    def __getitem__(self,index):\n",
    "        \n",
    "        if 0<= index < self.n:\n",
    "            return self.A[index]\n",
    "        else:\n",
    "            return 'IndexError - Index out of range'\n",
    "        \n",
    "        \n",
    "    # Append Object\n",
    "    def append(self,item):\n",
    "        if self.n == self.size:      # the value of n = size of list\n",
    "            # resize\n",
    "            self.__resize(self.size*2)\n",
    "        #append\n",
    "        self.A[self.n] = item\n",
    "        self.n = self.n+1\n",
    "        \n",
    "    #deleting object\n",
    "    def pop(self):\n",
    "        if self.n == 0:\n",
    "            return 'Empty list'\n",
    "        \n",
    "        print(self.A[self.n-1])\n",
    "        self.n = self.n - 1\n",
    "        \n",
    "    \n",
    "    def clear(self):\n",
    "        self.size = 1\n",
    "        self.n = 0\n",
    "        \n",
    "    # Finding index number using item.    \n",
    "    def find(self,item):\n",
    "        \n",
    "        for i in range(self.n):\n",
    "            if self.A[i] == item:\n",
    "                return i\n",
    "            \n",
    "        return 'ValueError - not in the list'\n",
    "                \n",
    "        \n",
    "        \n",
    "    def __resize(self,new_capacity):\n",
    "        # create new array with new capacity\n",
    "        B = self.__make_array(new_capacity)\n",
    "        self.size = new_capacity\n",
    "        # copy the content of A to B\n",
    "        for i in range(self.n):\n",
    "            B[i] = self.A[i]\n",
    "        \n",
    "        # reassign A bcz logic written on A\n",
    "        self.A = B\n",
    "                    \n",
    "\n",
    "        \n",
    "    def __make_array(self,capacity):\n",
    "        return (capacity*ctypes.py_object)()  #capacity*ctype.py_object - this is C language code which create C type array(static, refential) with size capacity."
   ]
  },
  {
   "cell_type": "code",
   "execution_count": 111,
   "id": "e95d5024",
   "metadata": {},
   "outputs": [],
   "source": [
    "L = MeraList()"
   ]
  },
  {
   "cell_type": "code",
   "execution_count": 112,
   "id": "eb161783",
   "metadata": {},
   "outputs": [],
   "source": [
    "L.append(3.1)\n",
    "L.append(100)\n",
    "L.append(True)\n",
    "L.append('Hello')"
   ]
  },
  {
   "cell_type": "code",
   "execution_count": 113,
   "id": "f418dac4",
   "metadata": {},
   "outputs": [
    {
     "data": {
      "text/plain": [
       "'IndexError - Index out of range'"
      ]
     },
     "execution_count": 113,
     "metadata": {},
     "output_type": "execute_result"
    }
   ],
   "source": [
    "L[6]"
   ]
  },
  {
   "cell_type": "code",
   "execution_count": 114,
   "id": "2cc5692e",
   "metadata": {},
   "outputs": [
    {
     "name": "stdout",
     "output_type": "stream",
     "text": [
      "[3.1,100,True,Hello]\n"
     ]
    }
   ],
   "source": [
    "print(L)"
   ]
  },
  {
   "cell_type": "code",
   "execution_count": 115,
   "id": "bf7885d9",
   "metadata": {},
   "outputs": [],
   "source": [
    "#L.pop()"
   ]
  },
  {
   "cell_type": "code",
   "execution_count": 116,
   "id": "95e4f06e",
   "metadata": {},
   "outputs": [],
   "source": [
    "#L.clear()\n",
    "#print(L)"
   ]
  },
  {
   "cell_type": "code",
   "execution_count": null,
   "id": "5718015f",
   "metadata": {},
   "outputs": [],
   "source": []
  },
  {
   "cell_type": "code",
   "execution_count": 120,
   "id": "adf576f1",
   "metadata": {},
   "outputs": [
    {
     "data": {
      "text/plain": [
       "1"
      ]
     },
     "execution_count": 120,
     "metadata": {},
     "output_type": "execute_result"
    }
   ],
   "source": [
    "L.find(100)"
   ]
  },
  {
   "cell_type": "code",
   "execution_count": null,
   "id": "ee5cc3b6",
   "metadata": {},
   "outputs": [],
   "source": []
  }
 ],
 "metadata": {
  "kernelspec": {
   "display_name": "Python 3 (ipykernel)",
   "language": "python",
   "name": "python3"
  },
  "language_info": {
   "codemirror_mode": {
    "name": "ipython",
    "version": 3
   },
   "file_extension": ".py",
   "mimetype": "text/x-python",
   "name": "python",
   "nbconvert_exporter": "python",
   "pygments_lexer": "ipython3",
   "version": "3.11.5"
  }
 },
 "nbformat": 4,
 "nbformat_minor": 5
}
