{
 "cells": [
  {
   "cell_type": "markdown",
   "id": "ed1da080",
   "metadata": {},
   "source": [
    "# Exercise Arrays\n",
    "\n",
    "Let us say your expense for every month are listed below,\n",
    "January - 2200\n",
    "February - 2350\n",
    "March - 2600\n",
    "April - 2130\n",
    "May - 2190\n",
    "Create a list to store these monthly expenses and using that find out."
   ]
  },
  {
   "cell_type": "code",
   "execution_count": 58,
   "id": "135fdc40",
   "metadata": {},
   "outputs": [],
   "source": [
    "Monthly_expenses = [2200, 2350, 2600, 2130, 2190]"
   ]
  },
  {
   "cell_type": "code",
   "execution_count": 59,
   "id": "f817745c",
   "metadata": {},
   "outputs": [
    {
     "name": "stdout",
     "output_type": "stream",
     "text": [
      "150\n"
     ]
    }
   ],
   "source": [
    "#1. In Feb, how many dollars you spent extra compare to January?\n",
    "\n",
    "\n",
    "Extra = Monthly_expenses[1]-Monthly_expenses[0]\n",
    "print(Extra)"
   ]
  },
  {
   "cell_type": "code",
   "execution_count": 60,
   "id": "f31132e7",
   "metadata": {},
   "outputs": [
    {
     "name": "stdout",
     "output_type": "stream",
     "text": [
      "7150\n"
     ]
    }
   ],
   "source": [
    "#2. Find out your total expense in first quarter (first three months) of the year.\n",
    "\n",
    "\n",
    "add = 0\n",
    "for i in range(3):\n",
    "    add += Monthly_expenses[i]\n",
    "print(add)"
   ]
  },
  {
   "cell_type": "code",
   "execution_count": 61,
   "id": "f5721813",
   "metadata": {},
   "outputs": [
    {
     "name": "stdout",
     "output_type": "stream",
     "text": [
      "Did i spent 2000 in any month? :  False\n"
     ]
    }
   ],
   "source": [
    "#3. Find out if you spent exactly 2000 dollars in any month\n",
    "\n",
    "\n",
    "print('Did i spent 2000 in any month? : ',2000 in Monthly_expenses)"
   ]
  },
  {
   "cell_type": "code",
   "execution_count": null,
   "id": "c4870ac5",
   "metadata": {},
   "outputs": [],
   "source": []
  },
  {
   "cell_type": "code",
   "execution_count": 62,
   "id": "8b9f1177",
   "metadata": {},
   "outputs": [
    {
     "name": "stdout",
     "output_type": "stream",
     "text": [
      "Monthly Expense in June 1980\n"
     ]
    }
   ],
   "source": [
    "#4. June month just finished and your expense is 1980 dollar. Add this item to our monthly expense list\n",
    "\n",
    "\n",
    "Monthly_expenses.append(1980)\n",
    "print('Monthly Expense in June', 1980)"
   ]
  },
  {
   "cell_type": "code",
   "execution_count": null,
   "id": "4ef8a4ed",
   "metadata": {},
   "outputs": [],
   "source": []
  },
  {
   "cell_type": "code",
   "execution_count": 63,
   "id": "39172e33",
   "metadata": {},
   "outputs": [
    {
     "name": "stdout",
     "output_type": "stream",
     "text": [
      "[2200, 2350, 2600, 1930, 2190, 1980]\n"
     ]
    }
   ],
   "source": [
    "#5. You returned an item that you bought in a month of April and\n",
    "#   got a refund of 200$. Make a correction to your monthly expense list\n",
    "#   based on this\n",
    "\n",
    "\n",
    "Monthly_expenses[3] = Monthly_expenses[3] - 200\n",
    "print(Monthly_expenses)"
   ]
  },
  {
   "cell_type": "code",
   "execution_count": null,
   "id": "bd0e5a3b",
   "metadata": {},
   "outputs": [],
   "source": []
  },
  {
   "cell_type": "code",
   "execution_count": null,
   "id": "5decb631",
   "metadata": {},
   "outputs": [],
   "source": []
  },
  {
   "cell_type": "code",
   "execution_count": null,
   "id": "9798688e",
   "metadata": {},
   "outputs": [],
   "source": []
  },
  {
   "cell_type": "markdown",
   "id": "3de446a8",
   "metadata": {},
   "source": [
    "# PART 2"
   ]
  },
  {
   "cell_type": "code",
   "execution_count": 154,
   "id": "cbdf425a",
   "metadata": {},
   "outputs": [],
   "source": [
    "# You have a list of your favourite marvel super heros.\n",
    "# heros=['spider man','thor','hulk','iron man','captain america']\n",
    "# Using this find out,\n",
    "\n",
    "\n",
    "\n",
    "\n"
   ]
  },
  {
   "cell_type": "code",
   "execution_count": 155,
   "id": "742b1415",
   "metadata": {},
   "outputs": [],
   "source": [
    "heros=['spider man','thor','hulk','iron man','captain america']"
   ]
  },
  {
   "cell_type": "code",
   "execution_count": 156,
   "id": "3e6ad702",
   "metadata": {},
   "outputs": [
    {
     "name": "stdout",
     "output_type": "stream",
     "text": [
      "5\n"
     ]
    }
   ],
   "source": [
    "#1. Length of the list\n",
    "\n",
    "\n",
    "print(len(heros))"
   ]
  },
  {
   "cell_type": "code",
   "execution_count": 157,
   "id": "fa888f60",
   "metadata": {},
   "outputs": [
    {
     "name": "stdout",
     "output_type": "stream",
     "text": [
      "['spider man', 'thor', 'hulk', 'iron man', 'captain america', 'black panther']\n"
     ]
    }
   ],
   "source": [
    "#2. Add 'black panther' at the end of this list\n",
    "\n",
    "\n",
    "\n",
    "heros.append('black panther')\n",
    "print(heros)"
   ]
  },
  {
   "cell_type": "code",
   "execution_count": null,
   "id": "6672c4b6",
   "metadata": {},
   "outputs": [],
   "source": []
  },
  {
   "cell_type": "code",
   "execution_count": 158,
   "id": "6ad6b2f1",
   "metadata": {},
   "outputs": [
    {
     "name": "stdout",
     "output_type": "stream",
     "text": [
      "['spider man', 'thor', 'hulk', 'black panther', 'iron man', 'captain america']\n"
     ]
    }
   ],
   "source": [
    "#3. You realize that you need to add 'black panther' after 'hulk',\n",
    "#   so remove it from the list first and then add it after 'hulk'\n",
    "    \n",
    "heros.remove('black panther')\n",
    "heros.insert(3,'black panther')\n",
    "print(heros)"
   ]
  },
  {
   "cell_type": "code",
   "execution_count": null,
   "id": "512f905b",
   "metadata": {},
   "outputs": [],
   "source": []
  },
  {
   "cell_type": "code",
   "execution_count": 159,
   "id": "39b47dce",
   "metadata": {},
   "outputs": [
    {
     "name": "stdout",
     "output_type": "stream",
     "text": [
      "['spider man', 'doctor strange', 'black panther', 'iron man', 'captain america']\n"
     ]
    }
   ],
   "source": [
    "#4. Now you don't like thor and hulk because they get angry easily :)\n",
    "#   So you want to remove thor and hulk from list and replace them with doctor strange (because he is cool).\n",
    "#   Do that with one line of code.\n",
    "\n",
    "heros[1:3] = ['doctor strange']\n",
    "print(heros)"
   ]
  },
  {
   "cell_type": "code",
   "execution_count": null,
   "id": "372b0ef7",
   "metadata": {},
   "outputs": [],
   "source": []
  },
  {
   "cell_type": "code",
   "execution_count": 160,
   "id": "ac3c9adf",
   "metadata": {},
   "outputs": [
    {
     "data": {
      "text/plain": [
       "['__add__',\n",
       " '__class__',\n",
       " '__class_getitem__',\n",
       " '__contains__',\n",
       " '__delattr__',\n",
       " '__delitem__',\n",
       " '__dir__',\n",
       " '__doc__',\n",
       " '__eq__',\n",
       " '__format__',\n",
       " '__ge__',\n",
       " '__getattribute__',\n",
       " '__getitem__',\n",
       " '__getstate__',\n",
       " '__gt__',\n",
       " '__hash__',\n",
       " '__iadd__',\n",
       " '__imul__',\n",
       " '__init__',\n",
       " '__init_subclass__',\n",
       " '__iter__',\n",
       " '__le__',\n",
       " '__len__',\n",
       " '__lt__',\n",
       " '__mul__',\n",
       " '__ne__',\n",
       " '__new__',\n",
       " '__reduce__',\n",
       " '__reduce_ex__',\n",
       " '__repr__',\n",
       " '__reversed__',\n",
       " '__rmul__',\n",
       " '__setattr__',\n",
       " '__setitem__',\n",
       " '__sizeof__',\n",
       " '__str__',\n",
       " '__subclasshook__',\n",
       " 'append',\n",
       " 'clear',\n",
       " 'copy',\n",
       " 'count',\n",
       " 'extend',\n",
       " 'index',\n",
       " 'insert',\n",
       " 'pop',\n",
       " 'remove',\n",
       " 'reverse',\n",
       " 'sort']"
      ]
     },
     "execution_count": 160,
     "metadata": {},
     "output_type": "execute_result"
    }
   ],
   "source": [
    "#5. Sort the heros list in alphabetical order (Hint. Use dir() functions to list down all functions available in list)\n",
    "\n",
    "dir(heros)"
   ]
  },
  {
   "cell_type": "code",
   "execution_count": 161,
   "id": "8d5779c6",
   "metadata": {},
   "outputs": [
    {
     "name": "stdout",
     "output_type": "stream",
     "text": [
      "['black panther', 'captain america', 'doctor strange', 'iron man', 'spider man']\n"
     ]
    }
   ],
   "source": [
    "heros.sort()\n",
    "print(heros)"
   ]
  },
  {
   "cell_type": "code",
   "execution_count": null,
   "id": "4476a271",
   "metadata": {},
   "outputs": [],
   "source": []
  },
  {
   "cell_type": "markdown",
   "id": "000c2bf9",
   "metadata": {},
   "source": [
    "# PART 3"
   ]
  },
  {
   "cell_type": "code",
   "execution_count": 162,
   "id": "49b8d119",
   "metadata": {},
   "outputs": [
    {
     "name": "stdout",
     "output_type": "stream",
     "text": [
      "Enter max number : 10\n",
      "[1, 3, 5, 7, 9]\n"
     ]
    }
   ],
   "source": [
    "# Create a list of all odd numbers between 1 and a max number. \n",
    "# Max number is something you need to take from a user using input() function\n",
    "odd = []\n",
    "max_num = int(input('Enter max number : '))\n",
    "for i in range(1,max_num):\n",
    "    if i%2==1:\n",
    "        odd.append(i)\n",
    "print(odd)"
   ]
  },
  {
   "cell_type": "code",
   "execution_count": null,
   "id": "48d2a7a8",
   "metadata": {},
   "outputs": [],
   "source": []
  }
 ],
 "metadata": {
  "kernelspec": {
   "display_name": "Python 3 (ipykernel)",
   "language": "python",
   "name": "python3"
  },
  "language_info": {
   "codemirror_mode": {
    "name": "ipython",
    "version": 3
   },
   "file_extension": ".py",
   "mimetype": "text/x-python",
   "name": "python",
   "nbconvert_exporter": "python",
   "pygments_lexer": "ipython3",
   "version": "3.11.5"
  }
 },
 "nbformat": 4,
 "nbformat_minor": 5
}
