{
 "cells": [
  {
   "cell_type": "code",
   "execution_count": 325,
   "id": "ee21e1d6-1adf-475a-b000-6e808f6c8265",
   "metadata": {},
   "outputs": [],
   "source": [
    "class Node:\n",
    "\n",
    "    def __init__(self, value):\n",
    "        self.data = value\n",
    "        self.next = None"
   ]
  },
  {
   "cell_type": "code",
   "execution_count": 437,
   "id": "77c7da67-0b48-4099-8997-d13fb0b3cddf",
   "metadata": {},
   "outputs": [],
   "source": [
    "class Stack:\n",
    "\n",
    "    def __init__(self):\n",
    "        \n",
    "        self.top = None\n",
    "\n",
    "    def isempty(self):\n",
    "        return self.top == None\n",
    "\n",
    "    \n",
    "    def push(self,value):\n",
    "\n",
    "        new_node = Node(value)\n",
    "        new_node.next = self.top\n",
    "        self.top = new_node\n",
    "\n",
    "    def peek(self):\n",
    "        if (self.isempty()):\n",
    "            return \"Stack Empty \"\n",
    "\n",
    "        else:\n",
    "            return self.top.data\n",
    "\n",
    "    def pop(self):\n",
    "\n",
    "        if (self.isempty()):\n",
    "            return \"Stack is Empty\"\n",
    "\n",
    "        else:\n",
    "            data = self.top.data\n",
    "            self.top = self.top.next\n",
    "            return data\n",
    "\n",
    "\n",
    "    def traverse(self):\n",
    "        temp = self.top\n",
    "        while temp != None:\n",
    "\n",
    "            print(temp.data)\n",
    "            temp = temp.next\n",
    "\n",
    "    def size(self):\n",
    "        temp = self.top\n",
    "        count = 0\n",
    "\n",
    "        while temp != None:\n",
    "            count = count+1\n",
    "            temp = temp.next\n",
    "        return count"
   ]
  },
  {
   "cell_type": "code",
   "execution_count": 271,
   "id": "6c5799b2-69a3-440e-bd4a-c23f3692206e",
   "metadata": {},
   "outputs": [],
   "source": [
    "def reverse_string(text):\n",
    "\n",
    "    s = Stack()\n",
    "\n",
    "    for i in text:\n",
    "        s.push(i)\n",
    "\n",
    "    res = \"\"\n",
    "    while (not s.isempty()):\n",
    "        res = res + s.pop()\n",
    "\n",
    "    return res"
   ]
  },
  {
   "cell_type": "code",
   "execution_count": 273,
   "id": "0901eeb1-6630-4792-a214-063cbe2998dc",
   "metadata": {},
   "outputs": [],
   "source": [
    "def text_editor(text,pattern):\n",
    "\n",
    "    u = Stack()\n",
    "    r = Stack()\n",
    "\n",
    "    for i in text:\n",
    "        u.push(i)\n",
    "\n",
    "    for i in pattern:\n",
    "        if i == \"u\":\n",
    "            data = u.pop()\n",
    "            r.push(data)\n",
    "        else:\n",
    "            data = r.pop()\n",
    "            u.push(data)\n",
    "\n",
    "    res = \"\"\n",
    "\n",
    "    while(not u.isempty()):\n",
    "        res = u.pop() + res\n",
    "    return res"
   ]
  },
  {
   "cell_type": "code",
   "execution_count": null,
   "id": "cbc2c182-59c1-47e5-aae0-97ae56e7ceb9",
   "metadata": {},
   "outputs": [],
   "source": []
  },
  {
   "cell_type": "code",
   "execution_count": null,
   "id": "b32ce6e9-c8e4-4aa8-8868-6ba336f2b547",
   "metadata": {},
   "outputs": [],
   "source": []
  },
  {
   "cell_type": "code",
   "execution_count": 513,
   "id": "3d574234-4fd0-4b79-906f-699a5fbb488c",
   "metadata": {},
   "outputs": [],
   "source": []
  },
  {
   "cell_type": "code",
   "execution_count": 499,
   "id": "634f65c8-8458-406d-be2a-5495d3e7f754",
   "metadata": {},
   "outputs": [],
   "source": []
  },
  {
   "cell_type": "code",
   "execution_count": 501,
   "id": "fb646537-b3f5-4c5f-947f-e1e74b53c23f",
   "metadata": {},
   "outputs": [],
   "source": [
    "s = Stack()"
   ]
  },
  {
   "cell_type": "code",
   "execution_count": 449,
   "id": "69c7cae4-59fb-4f0b-974f-24e19d0c52f1",
   "metadata": {},
   "outputs": [
    {
     "data": {
      "text/plain": [
       "True"
      ]
     },
     "execution_count": 449,
     "metadata": {},
     "output_type": "execute_result"
    }
   ],
   "source": [
    "s.isempty()"
   ]
  },
  {
   "cell_type": "code",
   "execution_count": 465,
   "id": "c14d34b9-cdc8-460e-8292-b35f2b689b19",
   "metadata": {},
   "outputs": [],
   "source": [
    "s.push(2)\n",
    "s.push(3)\n",
    "s.push(4)\n",
    "s.push(5)"
   ]
  },
  {
   "cell_type": "code",
   "execution_count": 467,
   "id": "c9a3fb9d-743f-4b7b-9e84-3b5b1bc5ae00",
   "metadata": {},
   "outputs": [
    {
     "data": {
      "text/plain": [
       "13"
      ]
     },
     "execution_count": 467,
     "metadata": {},
     "output_type": "execute_result"
    }
   ],
   "source": [
    "s.size()"
   ]
  },
  {
   "cell_type": "code",
   "execution_count": 461,
   "id": "f90cbead-e453-4631-bc06-861c683fe996",
   "metadata": {},
   "outputs": [
    {
     "name": "stdout",
     "output_type": "stream",
     "text": [
      "5\n",
      "4\n",
      "3\n",
      "2\n",
      "9\n",
      "5\n",
      "4\n",
      "3\n",
      "2\n"
     ]
    }
   ],
   "source": [
    "s.traverse()"
   ]
  },
  {
   "cell_type": "code",
   "execution_count": 53,
   "id": "56d950e8-0524-4015-916c-2dd1aa89c1d8",
   "metadata": {},
   "outputs": [],
   "source": [
    "s.push(6)"
   ]
  },
  {
   "cell_type": "code",
   "execution_count": 103,
   "id": "8d212d8f-9172-4feb-9235-9f01d6addf95",
   "metadata": {},
   "outputs": [],
   "source": [
    "s.traverse()"
   ]
  },
  {
   "cell_type": "code",
   "execution_count": 97,
   "id": "0f70ba80-5e40-4f32-94bd-d0199158fce5",
   "metadata": {},
   "outputs": [
    {
     "data": {
      "text/plain": [
       "'Stack Empty'"
      ]
     },
     "execution_count": 97,
     "metadata": {},
     "output_type": "execute_result"
    }
   ],
   "source": [
    "s.peek()"
   ]
  },
  {
   "cell_type": "code",
   "execution_count": 95,
   "id": "b249227f-af03-4859-aa28-e629c9657918",
   "metadata": {},
   "outputs": [],
   "source": [
    "s.pop()"
   ]
  },
  {
   "cell_type": "code",
   "execution_count": 213,
   "id": "a9c5d31b-38be-406d-bf9f-8e1c31d6e322",
   "metadata": {},
   "outputs": [
    {
     "data": {
      "text/plain": [
       "'olleH'"
      ]
     },
     "execution_count": 213,
     "metadata": {},
     "output_type": "execute_result"
    }
   ],
   "source": [
    "reverse_string(\"Hello\")"
   ]
  },
  {
   "cell_type": "code",
   "execution_count": 255,
   "id": "49fcadf1-b4e2-4f14-9d6f-fe6d062845c8",
   "metadata": {},
   "outputs": [
    {
     "data": {
      "text/plain": [
       "'Kolka'"
      ]
     },
     "execution_count": 255,
     "metadata": {},
     "output_type": "execute_result"
    }
   ],
   "source": [
    "text_editor(\"Kolkata\",\"uuru\")"
   ]
  },
  {
   "cell_type": "code",
   "execution_count": null,
   "id": "3d84a181-d5ec-4b47-8ace-c07d26201804",
   "metadata": {},
   "outputs": [],
   "source": []
  },
  {
   "cell_type": "code",
   "execution_count": null,
   "id": "75257f08-cd3e-4bf0-8830-2f88a7d2f734",
   "metadata": {},
   "outputs": [],
   "source": []
  },
  {
   "cell_type": "code",
   "execution_count": null,
   "id": "cee9c71e-2212-4f1a-9f28-8b8e0cbdacb4",
   "metadata": {},
   "outputs": [],
   "source": []
  },
  {
   "cell_type": "code",
   "execution_count": null,
   "id": "af54ec2f-92e8-4795-8505-61bb04efa96c",
   "metadata": {},
   "outputs": [],
   "source": []
  },
  {
   "cell_type": "code",
   "execution_count": 517,
   "id": "4763ffb1-466b-4cf0-b6c4-97a567c6753c",
   "metadata": {},
   "outputs": [],
   "source": [
    "# Find the Celebrity"
   ]
  },
  {
   "cell_type": "code",
   "execution_count": null,
   "id": "d19bdf21-647a-4906-b6a8-a526d74fa29e",
   "metadata": {},
   "outputs": [],
   "source": [
    "def find_celeb(L):\n",
    "\n",
    "    s = Stack()\n",
    "\n",
    "    for i in range(len(L)):\n",
    "        s.push(i)\n",
    "\n",
    "    while s.size() >= 2:\n",
    "\n",
    "        i = s.pop()\n",
    "        j = s.pop()\n",
    "\n",
    "        if L[i][j] == 0: #J is not a celeb bcz i didn't know J\n",
    "            s.push(i)\n",
    "        else:\n",
    "            #i is not a celeb\n",
    "            s.push(j)\n",
    "            \n",
    "    celeb = s.pop()\n",
    "\n",
    "    for i in range(len(L)):\n",
    "        if i != celeb:\n",
    "            if L[i][celeb] == 0 or L[celeb][i] == 1:\n",
    "                print(\"No one is a celebrity\")\n",
    "                return\n",
    "\n",
    "    print(\"The Celebrity is\", celeb)"
   ]
  },
  {
   "cell_type": "code",
   "execution_count": 519,
   "id": "c7e157d4-2fdb-471e-bb74-9b437eccfbe2",
   "metadata": {},
   "outputs": [],
   "source": [
    "L = [\n",
    "    [0,0,1,1],\n",
    "    [0,0,1,0],\n",
    "    [1,0,0,1],\n",
    "    [0,0,0,0]\n",
    "]"
   ]
  },
  {
   "cell_type": "code",
   "execution_count": 521,
   "id": "c746efe7-dbe9-40f6-8212-f7083b7fe964",
   "metadata": {},
   "outputs": [
    {
     "name": "stdout",
     "output_type": "stream",
     "text": [
      "No one is a celebrity\n"
     ]
    }
   ],
   "source": [
    "find_celeb(L)"
   ]
  },
  {
   "cell_type": "code",
   "execution_count": null,
   "id": "663def18-855b-4973-85ab-19f3d357561f",
   "metadata": {},
   "outputs": [],
   "source": []
  },
  {
   "cell_type": "code",
   "execution_count": null,
   "id": "76004843-d54c-4db8-b2b4-ed71f792cca8",
   "metadata": {},
   "outputs": [],
   "source": []
  },
  {
   "cell_type": "code",
   "execution_count": 525,
   "id": "f46a0eb5-a6d7-4dd5-ac4e-f738c1871633",
   "metadata": {},
   "outputs": [],
   "source": [
    "# Bracket Matching"
   ]
  },
  {
   "cell_type": "code",
   "execution_count": null,
   "id": "bef1d7bc-b516-4dbd-b01c-7cd128aa08e2",
   "metadata": {},
   "outputs": [],
   "source": []
  }
 ],
 "metadata": {
  "kernelspec": {
   "display_name": "Python 3 (ipykernel)",
   "language": "python",
   "name": "python3"
  },
  "language_info": {
   "codemirror_mode": {
    "name": "ipython",
    "version": 3
   },
   "file_extension": ".py",
   "mimetype": "text/x-python",
   "name": "python",
   "nbconvert_exporter": "python",
   "pygments_lexer": "ipython3",
   "version": "3.12.4"
  }
 },
 "nbformat": 4,
 "nbformat_minor": 5
}
