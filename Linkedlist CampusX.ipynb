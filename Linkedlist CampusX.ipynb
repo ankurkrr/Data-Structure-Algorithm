{
 "cells": [
  {
   "cell_type": "code",
   "execution_count": 1,
   "id": "22da51e1-90f1-4b12-82ce-5749c2a4196b",
   "metadata": {},
   "outputs": [],
   "source": [
    "class Node:\n",
    "\n",
    "    def __init__(self,value):\n",
    "        self.data = value\n",
    "        self.next = None"
   ]
  },
  {
   "cell_type": "code",
   "execution_count": 13,
   "id": "22a9499b-de41-4692-b0a5-cfe8d9cc571b",
   "metadata": {},
   "outputs": [],
   "source": [
    "a = Node(1)\n",
    "b = Node(2)\n",
    "c = Node(3)"
   ]
  },
  {
   "cell_type": "code",
   "execution_count": 17,
   "id": "57e77069-a0af-4929-9c6f-274a4b92e475",
   "metadata": {},
   "outputs": [
    {
     "name": "stdout",
     "output_type": "stream",
     "text": [
      "None 2 3\n"
     ]
    }
   ],
   "source": [
    "print(a.next, b.data, c.data)"
   ]
  },
  {
   "cell_type": "code",
   "execution_count": 19,
   "id": "8ef65efe-41bd-4dc6-9050-ebf56dadde60",
   "metadata": {},
   "outputs": [
    {
     "data": {
      "text/plain": [
       "2037697012096"
      ]
     },
     "execution_count": 19,
     "metadata": {},
     "output_type": "execute_result"
    }
   ],
   "source": [
    "id(a)"
   ]
  },
  {
   "cell_type": "code",
   "execution_count": 21,
   "id": "ce516b93-1d14-4723-a719-be2fb3a2d73f",
   "metadata": {},
   "outputs": [
    {
     "data": {
      "text/plain": [
       "2037697018000"
      ]
     },
     "execution_count": 21,
     "metadata": {},
     "output_type": "execute_result"
    }
   ],
   "source": [
    "id(b)"
   ]
  },
  {
   "cell_type": "code",
   "execution_count": 23,
   "id": "aeef4ecd-7a52-4d88-9c4b-e4151982d68e",
   "metadata": {},
   "outputs": [],
   "source": [
    "a.next = b\n",
    "b.next = c"
   ]
  },
  {
   "cell_type": "code",
   "execution_count": 25,
   "id": "d26316d5-046a-4b01-a7e7-9bce4e30cb1f",
   "metadata": {},
   "outputs": [
    {
     "name": "stdout",
     "output_type": "stream",
     "text": [
      "<__main__.Node object at 0x000001DA7034F890>\n"
     ]
    }
   ],
   "source": [
    "print(a.next)"
   ]
  },
  {
   "cell_type": "code",
   "execution_count": 27,
   "id": "6a4720fe-098f-493a-a02c-5c7272ff6719",
   "metadata": {},
   "outputs": [
    {
     "data": {
      "text/plain": [
       "2037697018000"
      ]
     },
     "execution_count": 27,
     "metadata": {},
     "output_type": "execute_result"
    }
   ],
   "source": [
    "int(0x000001DA7034F890)"
   ]
  },
  {
   "cell_type": "code",
   "execution_count": 29,
   "id": "a88195f2-e001-4c68-8186-abf43af7bb2d",
   "metadata": {},
   "outputs": [
    {
     "data": {
      "text/plain": [
       "2037697018000"
      ]
     },
     "execution_count": 29,
     "metadata": {},
     "output_type": "execute_result"
    }
   ],
   "source": [
    "id(b)"
   ]
  },
  {
   "cell_type": "code",
   "execution_count": null,
   "id": "b5eeff19-716a-4d57-b563-5698eb7de41e",
   "metadata": {},
   "outputs": [],
   "source": []
  },
  {
   "cell_type": "code",
   "execution_count": null,
   "id": "bbbec7a4-e5aa-4aae-a328-f2fd81924b05",
   "metadata": {},
   "outputs": [],
   "source": []
  },
  {
   "cell_type": "code",
   "execution_count": 31,
   "id": "47f9f23f-2b9d-4bfd-8831-35f8fbc01d8a",
   "metadata": {},
   "outputs": [],
   "source": [
    "class Node:\n",
    "\n",
    "    def __init__(self,value):\n",
    "        self.data = value\n",
    "        self.next = None"
   ]
  },
  {
   "cell_type": "code",
   "execution_count": 570,
   "id": "cda8bd75-6164-460f-8346-f4a6415d5f82",
   "metadata": {},
   "outputs": [],
   "source": [
    "class Linkedlist:\n",
    "\n",
    "    def __init__(self):\n",
    "\n",
    "        #Empty Linkedlist\n",
    "        self.head = None    #empty linkedlist have none head\n",
    "        self.n = 0    # Nodes available in Linkedlist\n",
    "\n",
    "\n",
    "    def __len__(self): #Length of nodes\n",
    "        return self.n\n",
    "\n",
    "\n",
    "    def insert_head(self,value):\n",
    "\n",
    "        new_node = Node(value)#new node\n",
    "\n",
    "        new_node.next = self.head # create connection\n",
    "\n",
    "        self.head = new_node #reassign head\n",
    "\n",
    "        self.n = self.n + 1 # increament n\n",
    "\n",
    "\n",
    "    def __str__(self): #traverse\n",
    "\n",
    "        curr = self.head\n",
    "\n",
    "        result = ''\n",
    "        while curr !=None:\n",
    "            result = result + str(curr.data) + '->'\n",
    "            curr = curr.next\n",
    "\n",
    "        return result[:-2]\n",
    "\n",
    "\n",
    "    def append(self, value):  #insert from tail\n",
    "\n",
    "        new_node = Node(value)  # new node create\n",
    "        \n",
    "        if self.head == None:\n",
    "            #empty\n",
    "            self.head = new_node\n",
    "            self.n = self.n+1\n",
    "            return\n",
    "        \n",
    "        \n",
    "        curr = self.head\n",
    "\n",
    "        while curr.next != None:\n",
    "            curr = curr.next\n",
    "        \n",
    "        # you are at the last node\n",
    "        curr.next = new_node\n",
    "        self.n = self.n+1\n",
    "\n",
    "\n",
    "    def insert_after(self,after,value):\n",
    "\n",
    "        new_node = Node(value)\n",
    "\n",
    "        curr = self.head\n",
    "\n",
    "        while curr != None:\n",
    "            if curr.data == after:\n",
    "                break\n",
    "            curr = curr.next\n",
    "\n",
    "        #case 1 break - item apko milgya -> curr is not None\n",
    "        # case 2 loop pura chla - item nhi mila -> curr = None\n",
    "\n",
    "        if curr != None:\n",
    "\n",
    "            new_node.next = curr.next\n",
    "            curr.next = new_node\n",
    "            self.n = self.n+1\n",
    "\n",
    "        else:\n",
    "            return 'Item Not Found'\n",
    "\n",
    "\n",
    "    def clear(self):\n",
    "            self.head = None\n",
    "            self.n = 0\n",
    "\n",
    "\n",
    "    def delete_head(self):\n",
    "        if self.head == None:\n",
    "            return \"List is Empty\"\n",
    "        self.head = self.head.next\n",
    "        self.n = self.n-1\n",
    "        \n",
    "\n",
    "    def pop(self):\n",
    "\n",
    "        #if list is empty\n",
    "        if self.head == None:\n",
    "            return \"Empty Linked List\"\n",
    "\n",
    "        curr = self.head\n",
    "\n",
    "        #if list have single item (only head available not tail)\n",
    "        if curr.next == None:\n",
    "            self.delete_head()\n",
    "\n",
    "        while curr.next.next != None:\n",
    "            curr = curr.next\n",
    "\n",
    "        #curr is 2nd last item\n",
    "        curr.next = None\n",
    "        self.n = self.n-1\n",
    "\n",
    "\n",
    "    def remove(self,value):\n",
    "\n",
    "        if self.head == None:\n",
    "            return \"Empty Linked List\"\n",
    "\n",
    "        if self.head.data == value:\n",
    "            #you want to remove the head node\n",
    "            return self.delete_head()\n",
    "\n",
    "        curr = self.head\n",
    "\n",
    "        while curr.next != None:\n",
    "            if curr.next.data == value:\n",
    "                break\n",
    "            curr = curr.next\n",
    "\n",
    "        # cases 1= item found\n",
    "        # case 2 = item not found\n",
    "        if curr.next == None:\n",
    "            #item not found\n",
    "            return 'Not Found'\n",
    "\n",
    "        else:\n",
    "            curr.next = curr.next.next\n",
    "\n",
    "    def search(self,item):\n",
    "        \n",
    "        curr = self.head\n",
    "        pos = 0\n",
    "\n",
    "        while curr != None:\n",
    "            if curr.data == item:\n",
    "                return pos\n",
    "            curr = curr.next\n",
    "            pos = pos + 1\n",
    "\n",
    "        return 'Not Found'\n",
    "\n",
    "\n",
    "    def __getitem__(self,index):\n",
    "\n",
    "        curr = self.head\n",
    "        pos = 0\n",
    "\n",
    "        while curr != None:\n",
    "            if pos == index:\n",
    "                return curr.data\n",
    "            curr = curr.next\n",
    "            pos = pos + 1\n",
    "\n",
    "        return 'Index Error'\n",
    "\n",
    "\n",
    "    def return_max(self,value):\n",
    "\n",
    "        temp = self.head\n",
    "        max = temp\n",
    "\n",
    "        while temp != None:\n",
    "            if temp.data > max.data:\n",
    "                max = temp\n",
    "            temp = temp.next\n",
    "\n",
    "        max.data = value\n",
    "\n",
    "\n",
    "    def sum_odd_nodes(self):\n",
    "        temp = self.head\n",
    "        counter = 0\n",
    "        result = 0\n",
    "\n",
    "        while temp != None:\n",
    "            if counter %2 != 0:\n",
    "                result = result+temp.data\n",
    "\n",
    "        print(result)\n",
    "\n",
    "\n",
    "    def reverse(self):\n",
    "\n",
    "        prev_node = None\n",
    "        curr_node = self.head\n",
    "\n",
    "        while curr_node != None:\n",
    "            next_node = curr_node.next\n",
    "            curr_node.next = prev_node\n",
    "            prev_node = curr_node\n",
    "            curr_node = next_node\n",
    "\n",
    "        self.head = prev_node\n",
    "\n",
    "\n",
    "    def change_sent(self):\n",
    "\n",
    "        temp = self.head\n",
    "\n",
    "        while temp != None:\n",
    "            if temp.data == '*' or temp.data == '/':\n",
    "                temp.data = ' '\n",
    "\n",
    "                if temp.next.data == \"*\" or temp.next.data == '/':\n",
    "                    temp.next.next.data = temp.next.next.data.upper()\n",
    "                    temp.next = temp.next.next\n",
    "                \n",
    "            temp = temp.next\n",
    "            "
   ]
  },
  {
   "cell_type": "code",
   "execution_count": 572,
   "id": "5035415f-9e30-4772-9bde-59bae64f9a7b",
   "metadata": {},
   "outputs": [],
   "source": [
    "L = Linkedlist()"
   ]
  },
  {
   "cell_type": "code",
   "execution_count": 536,
   "id": "2f307baa-4227-4776-9d5a-33be81a375f3",
   "metadata": {},
   "outputs": [],
   "source": [
    "L.append(4)\n",
    "L.append(3)\n",
    "L.append(7)\n",
    "L.append(9)\n",
    "L.append(2)"
   ]
  },
  {
   "cell_type": "code",
   "execution_count": 495,
   "id": "2abf4613-17d2-468c-a610-127d58e7a2f4",
   "metadata": {},
   "outputs": [],
   "source": [
    "L.insert_head(1)\n",
    "L.insert_head(2)\n",
    "L.insert_head(4)\n",
    "L.insert_head(3)"
   ]
  },
  {
   "cell_type": "code",
   "execution_count": 507,
   "id": "4725c974-909f-4552-9d75-52ea397ab801",
   "metadata": {},
   "outputs": [
    {
     "data": {
      "text/plain": [
       "5"
      ]
     },
     "execution_count": 507,
     "metadata": {},
     "output_type": "execute_result"
    }
   ],
   "source": [
    "len(L)"
   ]
  },
  {
   "cell_type": "code",
   "execution_count": 509,
   "id": "12ba83e6-91ed-402e-be8e-16c2295827c8",
   "metadata": {},
   "outputs": [
    {
     "name": "stdout",
     "output_type": "stream",
     "text": [
      "4->3->7->9->2\n"
     ]
    }
   ],
   "source": [
    "print(L)"
   ]
  },
  {
   "cell_type": "code",
   "execution_count": 131,
   "id": "ed5a161a-da18-4268-9b09-c62fc713d6ed",
   "metadata": {},
   "outputs": [],
   "source": [
    "L.append(59)"
   ]
  },
  {
   "cell_type": "code",
   "execution_count": 151,
   "id": "e5351d13-0aaf-40b8-abb3-3759cffb498a",
   "metadata": {},
   "outputs": [],
   "source": [
    "L.insert_after(1,30)"
   ]
  },
  {
   "cell_type": "code",
   "execution_count": 231,
   "id": "6b517e4e-28f8-41f9-9727-bb7c552b0e6f",
   "metadata": {},
   "outputs": [
    {
     "data": {
      "text/plain": [
       "'List is Empty'"
      ]
     },
     "execution_count": 231,
     "metadata": {},
     "output_type": "execute_result"
    }
   ],
   "source": [
    "L.delete_head()"
   ]
  },
  {
   "cell_type": "code",
   "execution_count": 475,
   "id": "d68d6ac6-3e0c-4e04-a3b6-bbbaeb6f75d6",
   "metadata": {},
   "outputs": [
    {
     "name": "stdout",
     "output_type": "stream",
     "text": [
      "3->4->2->1\n"
     ]
    }
   ],
   "source": [
    "print(L)"
   ]
  },
  {
   "cell_type": "code",
   "execution_count": 337,
   "id": "c1130661-5742-4379-b52e-e9fd59760f2e",
   "metadata": {},
   "outputs": [
    {
     "data": {
      "text/plain": [
       "'Empty Linked List'"
      ]
     },
     "execution_count": 337,
     "metadata": {},
     "output_type": "execute_result"
    }
   ],
   "source": [
    "L.pop()"
   ]
  },
  {
   "cell_type": "code",
   "execution_count": 417,
   "id": "c84597b4-5a7d-4307-a34e-0685f44422ca",
   "metadata": {},
   "outputs": [
    {
     "data": {
      "text/plain": [
       "'Empty Linked List'"
      ]
     },
     "execution_count": 417,
     "metadata": {},
     "output_type": "execute_result"
    }
   ],
   "source": [
    "L.remove(3)"
   ]
  },
  {
   "cell_type": "code",
   "execution_count": 455,
   "id": "4151afe4-dc14-48e5-8b9d-a400e9dab8ef",
   "metadata": {},
   "outputs": [
    {
     "name": "stdout",
     "output_type": "stream",
     "text": [
      "4->3->2->1\n"
     ]
    }
   ],
   "source": [
    "print(L)"
   ]
  },
  {
   "cell_type": "code",
   "execution_count": 445,
   "id": "4cc33f62-c986-417e-88b3-63133b14c7e6",
   "metadata": {},
   "outputs": [
    {
     "data": {
      "text/plain": [
       "'Not Found'"
      ]
     },
     "execution_count": 445,
     "metadata": {},
     "output_type": "execute_result"
    }
   ],
   "source": [
    "L.search(6)            "
   ]
  },
  {
   "cell_type": "code",
   "execution_count": 457,
   "id": "10af0aaf-e2d7-4659-ad93-9b4b286d682d",
   "metadata": {},
   "outputs": [
    {
     "data": {
      "text/plain": [
       "'Index Error'"
      ]
     },
     "execution_count": 457,
     "metadata": {},
     "output_type": "execute_result"
    }
   ],
   "source": [
    "L[4]"
   ]
  },
  {
   "cell_type": "code",
   "execution_count": 481,
   "id": "acef685f-3c9b-4a00-b89f-19dbd8fbae3a",
   "metadata": {},
   "outputs": [],
   "source": [
    "L.return_max(15)"
   ]
  },
  {
   "cell_type": "code",
   "execution_count": 540,
   "id": "7d17b480-8092-4fcb-bb58-5fcf1916bb40",
   "metadata": {},
   "outputs": [
    {
     "name": "stdout",
     "output_type": "stream",
     "text": [
      "2->9->7->3->4\n"
     ]
    }
   ],
   "source": [
    "print(L)"
   ]
  },
  {
   "cell_type": "code",
   "execution_count": 550,
   "id": "b9de4133-64de-4649-8f5b-58034f1555b6",
   "metadata": {},
   "outputs": [],
   "source": [
    "L.reverse()"
   ]
  },
  {
   "cell_type": "code",
   "execution_count": 552,
   "id": "44d52e55-188c-4219-aa9b-0c5cc0267b44",
   "metadata": {},
   "outputs": [
    {
     "name": "stdout",
     "output_type": "stream",
     "text": [
      "4->3->7->9->2\n"
     ]
    }
   ],
   "source": [
    "print(L)"
   ]
  },
  {
   "cell_type": "code",
   "execution_count": 511,
   "id": "8cbd777f-1330-4c75-a0f7-2eb0dc543496",
   "metadata": {},
   "outputs": [
    {
     "ename": "KeyboardInterrupt",
     "evalue": "",
     "output_type": "error",
     "traceback": [
      "\u001b[1;31m---------------------------------------------------------------------------\u001b[0m",
      "\u001b[1;31mKeyboardInterrupt\u001b[0m                         Traceback (most recent call last)",
      "Cell \u001b[1;32mIn[511], line 1\u001b[0m\n\u001b[1;32m----> 1\u001b[0m \u001b[43mL\u001b[49m\u001b[38;5;241;43m.\u001b[39;49m\u001b[43msum_odd_nodes\u001b[49m\u001b[43m(\u001b[49m\u001b[43m)\u001b[49m\n",
      "Cell \u001b[1;32mIn[485], line 185\u001b[0m, in \u001b[0;36mLinkedlist.sum_odd_nodes\u001b[1;34m(self)\u001b[0m\n\u001b[0;32m    182\u001b[0m counter \u001b[38;5;241m=\u001b[39m \u001b[38;5;241m0\u001b[39m\n\u001b[0;32m    183\u001b[0m result \u001b[38;5;241m=\u001b[39m \u001b[38;5;241m0\u001b[39m\n\u001b[1;32m--> 185\u001b[0m \u001b[38;5;28;01mwhile\u001b[39;00m temp \u001b[38;5;241m!=\u001b[39m \u001b[38;5;28;01mNone\u001b[39;00m:\n\u001b[0;32m    186\u001b[0m     \u001b[38;5;28;01mif\u001b[39;00m counter \u001b[38;5;241m%\u001b[39m\u001b[38;5;241m2\u001b[39m \u001b[38;5;241m!=\u001b[39m \u001b[38;5;241m0\u001b[39m:\n\u001b[0;32m    187\u001b[0m         result \u001b[38;5;241m=\u001b[39m result\u001b[38;5;241m+\u001b[39mtemp\u001b[38;5;241m.\u001b[39mdata\n",
      "\u001b[1;31mKeyboardInterrupt\u001b[0m: "
     ]
    }
   ],
   "source": [
    "L.sum_odd_nodes()"
   ]
  },
  {
   "cell_type": "code",
   "execution_count": null,
   "id": "eb92142a-68e5-4d45-a505-a0e97c0b8e51",
   "metadata": {},
   "outputs": [],
   "source": [
    "L"
   ]
  },
  {
   "cell_type": "code",
   "execution_count": 582,
   "id": "cd128ca2-7e45-4e72-8fe4-c42145573bff",
   "metadata": {},
   "outputs": [],
   "source": [
    "L.append('T')\n",
    "L.append('H')\n",
    "L.append('E')\n",
    "L.append('/')\n",
    "L.append('*')\n",
    "L.append('S')\n",
    "L.append('K')\n",
    "L.append('Y')\n",
    "L.append('*')\n",
    "L.append('i')\n",
    "L.append('s')\n",
    "L.append('/')\n",
    "L.append('/')\n",
    "L.append('/')\n",
    "L.append('b')\n",
    "L.append('l')\n",
    "L.append('u')\n",
    "L.append('e')"
   ]
  },
  {
   "cell_type": "code",
   "execution_count": 566,
   "id": "f47eb079-eab6-4b36-88e9-9be7c0d87444",
   "metadata": {},
   "outputs": [],
   "source": [
    "L.change_sent()"
   ]
  },
  {
   "cell_type": "code",
   "execution_count": 588,
   "id": "582f98ba-154e-4913-98f3-744e3f75bc7b",
   "metadata": {},
   "outputs": [
    {
     "name": "stdout",
     "output_type": "stream",
     "text": [
      "T->H->E-> ->S->K->Y-> ->i->s-> ->B->l->u->e->T->H->E-> ->S->K->Y-> ->i->s-> -> ->b->l->u->e\n"
     ]
    }
   ],
   "source": [
    "print(L)"
   ]
  },
  {
   "cell_type": "code",
   "execution_count": 586,
   "id": "30d3562e-46d5-499a-90b7-bd6972197314",
   "metadata": {},
   "outputs": [],
   "source": [
    "L.change_sent()"
   ]
  },
  {
   "cell_type": "code",
   "execution_count": null,
   "id": "79a84567-aede-489e-afb3-48197a08178b",
   "metadata": {},
   "outputs": [],
   "source": []
  }
 ],
 "metadata": {
  "kernelspec": {
   "display_name": "Python 3 (ipykernel)",
   "language": "python",
   "name": "python3"
  },
  "language_info": {
   "codemirror_mode": {
    "name": "ipython",
    "version": 3
   },
   "file_extension": ".py",
   "mimetype": "text/x-python",
   "name": "python",
   "nbconvert_exporter": "python",
   "pygments_lexer": "ipython3",
   "version": "3.12.4"
  }
 },
 "nbformat": 4,
 "nbformat_minor": 5
}
